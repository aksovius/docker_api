{
 "cells": [
  {
   "cell_type": "code",
   "execution_count": 17,
   "metadata": {},
   "outputs": [],
   "source": [
    "import docker\n",
    "client = docker.from_env()"
   ]
  },
  {
   "cell_type": "code",
   "execution_count": 29,
   "metadata": {},
   "outputs": [
    {
     "name": "stdout",
     "output_type": "stream",
     "text": [
      "container_9 running ['tf2:0.05'] df9dda980cd9\n",
      "container_8 running ['tf2:0.05'] bd0ea5149273\n",
      "container_7 exited ['tf2:0.05'] 350b370d5587\n",
      "container_6 running ['tf2:0.05'] 15cc52ec1ce0\n",
      "container_5 exited ['tf2:0.05'] f4e145827826\n",
      "container_4 exited ['tf2:0.05'] 22997f60caf9\n",
      "container_3 exited ['tf2:0.05'] 23eafc8fe174\n",
      "container_2 running ['tf2:0.05'] ffbc0b74c319\n",
      "container_1 running ['tf2:0.05'] 84b56c1edbeb\n",
      "container_0 running ['tf2:0.05'] 781ffe5e0b64\n",
      "nginx-nginx-1 running ['nginx:latest'] 319a7a894219\n"
     ]
    }
   ],
   "source": [
    "for container in client.containers.list(all=True):\n",
    "  print(container.name, container.status, container.image.tags, container.short_id)"
   ]
  },
  {
   "cell_type": "code",
   "execution_count": 49,
   "metadata": {},
   "outputs": [],
   "source": [
    "client.api.remove_container(\"e1878e3058be\", force=True)"
   ]
  },
  {
   "cell_type": "code",
   "execution_count": 7,
   "metadata": {},
   "outputs": [
    {
     "name": "stdout",
     "output_type": "stream",
     "text": [
      "<generator object APIClient._stream_helper at 0x7ff80169b140>\n"
     ]
    }
   ],
   "source": [
    "container = client.containers.get('6e43d7a3976f1ec67c4073faca499f0a5fe31ca29cbafd24fbda4db586138f25')\n",
    "print(container.stats(stream=True, decode=True))"
   ]
  },
  {
   "cell_type": "code",
   "execution_count": 5,
   "metadata": {},
   "outputs": [
    {
     "data": {
      "text/plain": [
       "{'Platform': {'Name': 'Docker Engine - Community'},\n",
       " 'Components': [{'Name': 'Engine',\n",
       "   'Version': '20.10.23',\n",
       "   'Details': {'ApiVersion': '1.41',\n",
       "    'Arch': 'amd64',\n",
       "    'BuildTime': '2023-01-19T17:34:14.000000000+00:00',\n",
       "    'Experimental': 'false',\n",
       "    'GitCommit': '6051f14',\n",
       "    'GoVersion': 'go1.18.10',\n",
       "    'KernelVersion': '5.15.0-60-generic',\n",
       "    'MinAPIVersion': '1.12',\n",
       "    'Os': 'linux'}},\n",
       "  {'Name': 'containerd',\n",
       "   'Version': '1.6.16',\n",
       "   'Details': {'GitCommit': '31aa4358a36870b21a992d3ad2bef29e1d693bec'}},\n",
       "  {'Name': 'runc',\n",
       "   'Version': '1.1.4',\n",
       "   'Details': {'GitCommit': 'v1.1.4-0-g5fd4c4d'}},\n",
       "  {'Name': 'docker-init',\n",
       "   'Version': '0.19.0',\n",
       "   'Details': {'GitCommit': 'de40ad0'}}],\n",
       " 'Version': '20.10.23',\n",
       " 'ApiVersion': '1.41',\n",
       " 'MinAPIVersion': '1.12',\n",
       " 'GitCommit': '6051f14',\n",
       " 'GoVersion': 'go1.18.10',\n",
       " 'Os': 'linux',\n",
       " 'Arch': 'amd64',\n",
       " 'KernelVersion': '5.15.0-60-generic',\n",
       " 'BuildTime': '2023-01-19T17:34:14.000000000+00:00'}"
      ]
     },
     "execution_count": 5,
     "metadata": {},
     "output_type": "execute_result"
    }
   ],
   "source": [
    "client.version()"
   ]
  },
  {
   "cell_type": "code",
   "execution_count": 9,
   "metadata": {},
   "outputs": [],
   "source": [
    "!docker run  --gpus '\"device={gpu}:{device}\"'  \\\n",
    "        --shm-size=1g \\\n",
    "        --ulimit memlock=-1 \\\n",
    "        --ulimit stack=67108864 \\\n",
    "        -v /home/gil/Desktop/colab/:/home/user/workdir/data:ro \\\n",
    "        -v /home/gil/Desktop/alexander/code-server/user_dir:/home/user/workdir/example:ro \\\n",
    "        -v /etc/timezone:/etc/timezone:ro \\\n",
    "        -v /etc/localtime:/etc/localtime:ro \\\n",
    "        -v /home/gil/Desktop/alexander/code-server/config.yaml:/home/user/.config/code-server/config.yaml \\\n",
    "        --rm \\\n",
    "        -d \\\n",
    "        -p \"808{i}:8080\" tf2:0.04 code-server"
   ]
  },
  {
   "cell_type": "code",
   "execution_count": 8,
   "metadata": {},
   "outputs": [],
   "source": [
    "def run_container(i):\n",
    "    device = i\n",
    "    gpu = 3\n",
    "    if i > 6:\n",
    "        device -= 7\n",
    "        gpu-=1\n",
    "    container = client.containers.run(\n",
    "        'tf2:0.05', \n",
    "        detach=True, \n",
    "        ports={'8080/tcp': 8080+i}, \n",
    "        volumes={'/home/gil/Desktop/colab/': {'bind': '/home/user/workdir/data', 'mode': 'ro'}, \n",
    "                '/home/gil/Desktop/alexander/code-server/user_dir': {'bind': '/home/user/workdir/example', 'mode': 'ro'},\n",
    "                '/etc/timezone': {'bind': '/etc/timezone', 'mode': 'ro'}, \n",
    "                '/etc/localtime': {'bind': '/etc/localtime', 'mode': 'ro'},\n",
    "                '/home/gil/Desktop/alexander/code-server/config.yaml': {'bind': '/home/user/.config/code-server/config.yaml', 'mode': 'ro'}}, \n",
    "        shm_size='1g', \n",
    "        environment=['TZ=Asia/Seoul'], \n",
    "        remove=False, \n",
    "        name='container_'+str(i),\n",
    "        device_requests=[{'DeviceIDs': [f'{gpu}:{device}'],\n",
    "                        'Capabilities': [['gpu']],\n",
    "                        }], \n",
    "        command='code-server',\n",
    "        entrypoint='bash')\n",
    "    print(\"Run: \" + container.id  + \"gpu:  \" + str(gpu) + \"device: \" + str(device))"
   ]
  },
  {
   "cell_type": "code",
   "execution_count": 10,
   "metadata": {},
   "outputs": [
    {
     "name": "stdout",
     "output_type": "stream",
     "text": [
      "Removed container:  8115bd8971cac58a11663276bc373114fe668139e4e4bf7972be23475064faf3\n",
      "Removed container:  a671bc4464247af36010304e30101b4cc0426125d46664ec0f7857d29a9fd07c\n",
      "Removed container:  54d266ae64c0251775803c199bb4da03b102452de28088b01c5929a9772b2956\n",
      "Removed container:  9fd84ef3e247df7da9737e7c66dda09193ae9b8e027b1040e2bf51ae6af26ae8\n",
      "Removed container:  e6c855f62ee0ee5d90b8b531b63e230c442f55c8edbe02a4791980ef1c486359\n",
      "Removed container:  612bb8edbdc3e3cece2e3e83688ba838eec191173aa06a3a7031cbece15c23ad\n",
      "Removed container:  c7ce6147c9e0636e19c2eea5ab4993cfd19724cfd485c743bc101f0e0c18c41a\n",
      "Removed container:  6df9f36c12209766e9844366b0d633c4d2b3b3f55d4fe79f7694ecee52b37f24\n",
      "Removed container:  2496f682e27335ea4dcd6272e22defbf58dd18ddf92b806428e4a55d577d046f\n",
      "Removed container:  0211511ad1a5be43b4cdb99390b53940b5a25ed84d43cdb0c786efacb7b52a3a\n"
     ]
    }
   ],
   "source": [
    "for container in client.containers.list():\n",
    "  if container.image.tags == ['tf2:0.05']:\n",
    "    container.remove(force=True)\n",
    "    print(\"Removed container: \", container.id)"
   ]
  },
  {
   "cell_type": "code",
   "execution_count": 11,
   "metadata": {},
   "outputs": [
    {
     "name": "stdout",
     "output_type": "stream",
     "text": [
      "Run: 781ffe5e0b64021e32dc17d6901dc536d88012c2286ef2e90dbf1f2c62c4f3b6gpu:  3device: 0\n",
      "Run: 84b56c1edbebbcfb8bf623b97af97b02c58be60c59ea50a325ab4739127ad30egpu:  3device: 1\n",
      "Run: ffbc0b74c319dbbedaf33d7abdec2ee0282757dbefcc8a3ec315d092db13f617gpu:  3device: 2\n",
      "Run: 23eafc8fe1742592f433648776f62499366e36eeea28335dce7fdd2f8b5aa467gpu:  3device: 3\n",
      "Run: 22997f60caf99d4c3bc218d68cdcdcab7f0cfac6bc36fd4a729fcba94704430dgpu:  3device: 4\n",
      "Run: f4e145827826ac41ab96c11020da36e3321916d207256bfc6919e209d73ab385gpu:  3device: 5\n",
      "Run: 15cc52ec1ce09dc0996ec18ba9c33ce4a75cf905864d3c7a9455842b645d603agpu:  3device: 6\n",
      "Run: 350b370d558704a17ac5ed4c5e6e54b0eff8090bb9a0c7c04b7eaf0759c410b2gpu:  2device: 0\n",
      "Run: bd0ea514927349dbb819a8394574f2bda78ede5f32eb9b9becae08a8d81eeb9dgpu:  2device: 1\n",
      "Run: df9dda980cd920d6d2646cd0937da2f09c0e45f247b6ff3df3155cd36a186b93gpu:  2device: 2\n"
     ]
    }
   ],
   "source": [
    "for i in range(10):\n",
    "    run_container(i)"
   ]
  },
  {
   "cell_type": "code",
   "execution_count": null,
   "metadata": {},
   "outputs": [],
   "source": [
    "for container in client.containers.list():\n",
    "    container.exec_run('conda run -n tf python /home/user/workdir/example/unet.py', detach=True)"
   ]
  },
  {
   "cell_type": "code",
   "execution_count": 74,
   "metadata": {},
   "outputs": [],
   "source": [
    "container = client.containers.get('b2d70890715bb7ebe31c8eb15c99b23d2fd17d09145deb2ffd21333a187c6479')\n",
    "#container.exec_run('conda activate tf2 && python /home/user/workdir/example/colab.py')"
   ]
  },
  {
   "cell_type": "code",
   "execution_count": 75,
   "metadata": {},
   "outputs": [
    {
     "data": {
      "text/plain": [
       "ExecResult(exit_code=1, output=b'Traceback (most recent call last):\\n  File \"/home/user/workdir/example/unet.py\", line 1, in <module>\\n    from keras.models import Model\\nModuleNotFoundError: No module named \\'keras\\'\\n')"
      ]
     },
     "execution_count": 75,
     "metadata": {},
     "output_type": "execute_result"
    }
   ],
   "source": [
    "container.exec_run('conda run -n tf python /home/user/workdir/example/unet.py')"
   ]
  },
  {
   "cell_type": "code",
   "execution_count": 7,
   "metadata": {},
   "outputs": [
    {
     "name": "stdout",
     "output_type": "stream",
     "text": [
      "Driver Version: 525.78.01\n",
      "Device 0 : NVIDIA A100 80GB PCIe\n",
      "Device 1 : NVIDIA A100 80GB PCIe\n",
      "Device 2 : NVIDIA A100 80GB PCIe\n",
      "Device 3 : NVIDIA A100 80GB PCIe\n"
     ]
    }
   ],
   "source": [
    "from pynvml import *\n",
    "nvmlInit()\n",
    "print(\"Driver Version:\", nvmlSystemGetDriverVersion())\n",
    "deviceCount = nvmlDeviceGetCount()\n",
    "for i in range(deviceCount):\n",
    "     handle = nvmlDeviceGetHandleByIndex(i)\n",
    "     print(\"Device\", i, \":\", nvmlDeviceGetName(handle))\n"
   ]
  },
  {
   "cell_type": "code",
   "execution_count": 8,
   "metadata": {},
   "outputs": [
    {
     "data": {
      "text/plain": [
       "{'gpu': [{'fb_memory_usage': {'total': 81920.0,\n",
       "    'free': 81039.375,\n",
       "    'unit': 'MiB'}},\n",
       "  {'fb_memory_usage': {'total': 81920.0, 'free': 81039.375, 'unit': 'MiB'}},\n",
       "  {'fb_memory_usage': {'total': 81920.0, 'free': 81039.375, 'unit': 'MiB'}},\n",
       "  {'fb_memory_usage': {'total': 81920.0, 'free': 81039.375, 'unit': 'MiB'}}]}"
      ]
     },
     "execution_count": 8,
     "metadata": {},
     "output_type": "execute_result"
    }
   ],
   "source": [
    "from pynvml.smi import nvidia_smi\n",
    "nvsmi = nvidia_smi.getInstance()\n",
    "nvsmi.DeviceQuery('memory.free, memory.total')"
   ]
  },
  {
   "cell_type": "code",
   "execution_count": 10,
   "metadata": {},
   "outputs": [
    {
     "name": "stdout",
     "output_type": "stream",
     "text": [
      "{'gpu': [{'mig_mode': {'current_mm': 'Enabled', 'pending_mm': 'Enabled'}}, {'mig_mode': {'current_mm': 'Enabled', 'pending_mm': 'Enabled'}}, {'mig_mode': {'current_mm': 'Enabled', 'pending_mm': 'Enabled'}}, {'mig_mode': {'current_mm': 'Enabled', 'pending_mm': 'Enabled'}}]}\n"
     ]
    }
   ],
   "source": [
    "from pynvml.smi import nvidia_smi\n",
    "nvsmi = nvidia_smi.getInstance()\n",
    "print(nvsmi.DeviceQuery('mig.mode.current'), end='\\n')"
   ]
  },
  {
   "cell_type": "code",
   "execution_count": 14,
   "metadata": {},
   "outputs": [],
   "source": [
    "data = !nvidia-smi"
   ]
  },
  {
   "cell_type": "code",
   "execution_count": 15,
   "metadata": {},
   "outputs": [
    {
     "name": "stdout",
     "output_type": "stream",
     "text": [
      "['Wed Mar 15 10:49:11 2023       ', '+-----------------------------------------------------------------------------+', '| NVIDIA-SMI 525.78.01    Driver Version: 525.78.01    CUDA Version: 12.0     |', '|-------------------------------+----------------------+----------------------+', '| GPU  Name        Persistence-M| Bus-Id        Disp.A | Volatile Uncorr. ECC |', '| Fan  Temp  Perf  Pwr:Usage/Cap|         Memory-Usage | GPU-Util  Compute M. |', '|                               |                      |               MIG M. |', '|===============================+======================+======================|', '|   0  NVIDIA A100 80G...  Off  | 00000000:17:00.0 Off |                   On |', '| N/A   33C    P0    46W / 300W |     45MiB / 81920MiB |     N/A      Default |', '|                               |                      |              Enabled |', '+-------------------------------+----------------------+----------------------+', '|   1  NVIDIA A100 80G...  Off  | 00000000:31:00.0 Off |                   On |', '| N/A   32C    P0    45W / 300W |     45MiB / 81920MiB |     N/A      Default |', '|                               |                      |              Enabled |', '+-------------------------------+----------------------+----------------------+', '|   2  NVIDIA A100 80G...  Off  | 00000000:B1:00.0 Off |                   On |', '| N/A   31C    P0    42W / 300W |     45MiB / 81920MiB |     N/A      Default |', '|                               |                      |              Enabled |', '+-------------------------------+----------------------+----------------------+', '|   3  NVIDIA A100 80G...  Off  | 00000000:CA:00.0 Off |                   On |', '| N/A   32C    P0    45W / 300W |     45MiB / 81920MiB |     N/A      Default |', '|                               |                      |              Enabled |', '+-------------------------------+----------------------+----------------------+', '', '+-----------------------------------------------------------------------------+', '| MIG devices:                                                                |', '+------------------+----------------------+-----------+-----------------------+', '| GPU  GI  CI  MIG |         Memory-Usage |        Vol|         Shared        |', '|      ID  ID  Dev |           BAR1-Usage | SM     Unc| CE  ENC  DEC  OFA  JPG|', '|                  |                      |        ECC|                       |', '|==================+======================+===========+=======================|', '|  0    7   0   0  |      6MiB /  9728MiB | 14      0 |  1   0    0    0    0 |', '|                  |      0MiB / 16383MiB |           |                       |', '+------------------+----------------------+-----------+-----------------------+', '|  0    8   0   1  |      6MiB /  9728MiB | 14      0 |  1   0    0    0    0 |', '|                  |      0MiB / 16383MiB |           |                       |', '+------------------+----------------------+-----------+-----------------------+', '|  0    9   0   2  |      6MiB /  9728MiB | 14      0 |  1   0    0    0    0 |', '|                  |      0MiB / 16383MiB |           |                       |', '+------------------+----------------------+-----------+-----------------------+', '|  0   10   0   3  |      6MiB /  9728MiB | 14      0 |  1   0    0    0    0 |', '|                  |      0MiB / 16383MiB |           |                       |', '+------------------+----------------------+-----------+-----------------------+', '|  0   11   0   4  |      6MiB /  9728MiB | 14      0 |  1   0    0    0    0 |', '|                  |      0MiB / 16383MiB |           |                       |', '+------------------+----------------------+-----------+-----------------------+', '|  0   12   0   5  |      6MiB /  9728MiB | 14      0 |  1   0    0    0    0 |', '|                  |      0MiB / 16383MiB |           |                       |', '+------------------+----------------------+-----------+-----------------------+', '|  0   13   0   6  |      6MiB /  9728MiB | 14      0 |  1   0    0    0    0 |', '|                  |      0MiB / 16383MiB |           |                       |', '+------------------+----------------------+-----------+-----------------------+', '|  1    7   0   0  |      6MiB /  9728MiB | 14      0 |  1   0    0    0    0 |', '|                  |      0MiB / 16383MiB |           |                       |', '+------------------+----------------------+-----------+-----------------------+', '|  1    8   0   1  |      6MiB /  9728MiB | 14      0 |  1   0    0    0    0 |', '|                  |      0MiB / 16383MiB |           |                       |', '+------------------+----------------------+-----------+-----------------------+', '|  1    9   0   2  |      6MiB /  9728MiB | 14      0 |  1   0    0    0    0 |', '|                  |      0MiB / 16383MiB |           |                       |', '+------------------+----------------------+-----------+-----------------------+', '|  1   11   0   3  |      6MiB /  9728MiB | 14      0 |  1   0    0    0    0 |', '|                  |      0MiB / 16383MiB |           |                       |', '+------------------+----------------------+-----------+-----------------------+', '|  1   12   0   4  |      6MiB /  9728MiB | 14      0 |  1   0    0    0    0 |', '|                  |      0MiB / 16383MiB |           |                       |', '+------------------+----------------------+-----------+-----------------------+', '|  1   13   0   5  |      6MiB /  9728MiB | 14      0 |  1   0    0    0    0 |', '|                  |      0MiB / 16383MiB |           |                       |', '+------------------+----------------------+-----------+-----------------------+', '|  1   14   0   6  |      6MiB /  9728MiB | 14      0 |  1   0    0    0    0 |', '|                  |      0MiB / 16383MiB |           |                       |', '+------------------+----------------------+-----------+-----------------------+', '|  2    7   0   0  |      6MiB /  9728MiB | 14      0 |  1   0    0    0    0 |', '|                  |      0MiB / 16383MiB |           |                       |', '+------------------+----------------------+-----------+-----------------------+', '|  2    8   0   1  |      6MiB /  9728MiB | 14      0 |  1   0    0    0    0 |', '|                  |      0MiB / 16383MiB |           |                       |', '+------------------+----------------------+-----------+-----------------------+', '|  2    9   0   2  |      6MiB /  9728MiB | 14      0 |  1   0    0    0    0 |', '|                  |      0MiB / 16383MiB |           |                       |', '+------------------+----------------------+-----------+-----------------------+', '|  2   10   0   3  |      6MiB /  9728MiB | 14      0 |  1   0    0    0    0 |', '|                  |      0MiB / 16383MiB |           |                       |', '+------------------+----------------------+-----------+-----------------------+', '|  2   11   0   4  |      6MiB /  9728MiB | 14      0 |  1   0    0    0    0 |', '|                  |      0MiB / 16383MiB |           |                       |', '+------------------+----------------------+-----------+-----------------------+', '|  2   12   0   5  |      6MiB /  9728MiB | 14      0 |  1   0    0    0    0 |', '|                  |      0MiB / 16383MiB |           |                       |', '+------------------+----------------------+-----------+-----------------------+', '|  2   13   0   6  |      6MiB /  9728MiB | 14      0 |  1   0    0    0    0 |', '|                  |      0MiB / 16383MiB |           |                       |', '+------------------+----------------------+-----------+-----------------------+', '|  3    7   0   0  |      6MiB /  9728MiB | 14      0 |  1   0    0    0    0 |', '|                  |      0MiB / 16383MiB |           |                       |', '+------------------+----------------------+-----------+-----------------------+', '|  3    8   0   1  |      6MiB /  9728MiB | 14      0 |  1   0    0    0    0 |', '|                  |      0MiB / 16383MiB |           |                       |', '+------------------+----------------------+-----------+-----------------------+', '|  3    9   0   2  |      6MiB /  9728MiB | 14      0 |  1   0    0    0    0 |', '|                  |      0MiB / 16383MiB |           |                       |', '+------------------+----------------------+-----------+-----------------------+', '|  3   10   0   3  |      6MiB /  9728MiB | 14      0 |  1   0    0    0    0 |', '|                  |      0MiB / 16383MiB |           |                       |', '+------------------+----------------------+-----------+-----------------------+', '|  3   11   0   4  |      6MiB /  9728MiB | 14      0 |  1   0    0    0    0 |', '|                  |      0MiB / 16383MiB |           |                       |', '+------------------+----------------------+-----------+-----------------------+', '|  3   12   0   5  |      6MiB /  9728MiB | 14      0 |  1   0    0    0    0 |', '|                  |      0MiB / 16383MiB |           |                       |', '+------------------+----------------------+-----------+-----------------------+', '|  3   13   0   6  |      6MiB /  9728MiB | 14      0 |  1   0    0    0    0 |', '|                  |      0MiB / 16383MiB |           |                       |', '+------------------+----------------------+-----------+-----------------------+', '                                                                               ', '+-----------------------------------------------------------------------------+', '| Processes:                                                                  |', '|  GPU   GI   CI        PID   Type   Process name                  GPU Memory |', '|        ID   ID                                                   Usage      |', '|=============================================================================|', '|  No running processes found                                                 |', '+-----------------------------------------------------------------------------+']\n"
     ]
    }
   ],
   "source": [
    "print(data)"
   ]
  },
  {
   "cell_type": "code",
   "execution_count": 27,
   "metadata": {},
   "outputs": [],
   "source": [
    "client.containers.get(\"23eafc8fe174\").start()"
   ]
  },
  {
   "cell_type": "code",
   "execution_count": 20,
   "metadata": {},
   "outputs": [],
   "source": [
    "id = '324wrfsdf'\n",
    "test = {'id': id}"
   ]
  },
  {
   "cell_type": "code",
   "execution_count": 26,
   "metadata": {},
   "outputs": [
    {
     "data": {
      "text/plain": [
       "'324wrfsdf'"
      ]
     },
     "execution_count": 26,
     "metadata": {},
     "output_type": "execute_result"
    }
   ],
   "source": [
    "test['id']"
   ]
  },
  {
   "cell_type": "code",
   "execution_count": null,
   "metadata": {},
   "outputs": [],
   "source": []
  }
 ],
 "metadata": {
  "kernelspec": {
   "display_name": "base",
   "language": "python",
   "name": "python3"
  },
  "language_info": {
   "codemirror_mode": {
    "name": "ipython",
    "version": 3
   },
   "file_extension": ".py",
   "mimetype": "text/x-python",
   "name": "python",
   "nbconvert_exporter": "python",
   "pygments_lexer": "ipython3",
   "version": "3.10.4"
  },
  "orig_nbformat": 4
 },
 "nbformat": 4,
 "nbformat_minor": 2
}
