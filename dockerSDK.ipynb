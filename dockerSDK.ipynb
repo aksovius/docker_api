{
 "cells": [
  {
   "cell_type": "code",
   "execution_count": 10,
   "metadata": {},
   "outputs": [],
   "source": [
    "from controller import DockerController\n",
    "docker_controller = DockerController()"
   ]
  },
  {
   "cell_type": "code",
   "execution_count": 2,
   "metadata": {},
   "outputs": [],
   "source": [
    "docker_controller.load_all_containers()"
   ]
  },
  {
   "cell_type": "code",
   "execution_count": 9,
   "metadata": {},
   "outputs": [
    {
     "name": "stdout",
     "output_type": "stream",
     "text": [
      "sandbox.1.0.8087\n",
      "sandbox.3.6.8107\n",
      "sandbox.0.2.8081\n",
      "sandbox.0.1.8081\n",
      "sandbox.3.5.8106\n",
      "sandbox.3.4.8105\n",
      "sandbox.0.0.8080\n",
      "sandbox.3.3.8104\n",
      "sandbox.3.2.8103\n",
      "sandbox.3.1.8102\n",
      "sandbox.2.5.8099\n",
      "sandbox.3.0.8101\n",
      "sandbox.2.6.8100\n",
      "sandbox.2.4.8098\n",
      "sandbox.2.2.8096\n",
      "sandbox.2.3.8097\n",
      "sandbox.2.1.8095\n",
      "sandbox.2.0.8094\n",
      "sandbox.1.6.8093\n",
      "sandbox.1.5.8092\n",
      "sandbox.1.4.8091\n",
      "sandbox.1.3.8090\n",
      "sandbox.1.2.8089\n",
      "sandbox.1.1.8088\n",
      "sandbox.0.5.8085\n",
      "sandbox.0.6.8086\n",
      "sandbox.0.3.8083\n",
      "sandbox.0.4.8084\n"
     ]
    }
   ],
   "source": [
    "import random\n",
    "import docker \n",
    "client = docker.from_env()\n",
    "containers = client.containers.list(all=True)\n",
    "for c in containers:\n",
    "    if c.image.tags[0] == 'tf2:1.0':\n",
    "        print(c.name)\n",
    "        #c.remove()"
   ]
  },
  {
   "cell_type": "code",
   "execution_count": 5,
   "metadata": {},
   "outputs": [],
   "source": [
    "docker_controller.load_one(\"6deec6c04a49\")"
   ]
  },
  {
   "cell_type": "code",
   "execution_count": 6,
   "metadata": {},
   "outputs": [
    {
     "name": "stdout",
     "output_type": "stream",
     "text": [
      "Run: bbfb5f8b8224 gpu: 0 device: 0\n"
     ]
    }
   ],
   "source": [
    "docker_controller.start_one(name=\"test\", gpu=0, device=0, port=8080, user_dir=\"test\")"
   ]
  },
  {
   "cell_type": "code",
   "execution_count": 13,
   "metadata": {},
   "outputs": [
    {
     "data": {
      "text/plain": [
       "[<Container: 655061174f1c>,\n",
       " <Container: 8ba386dea2ae>,\n",
       " <Container: 72e69a189526>,\n",
       " <Container: 899576c86f6a>,\n",
       " <Container: 7e443f11a0a3>,\n",
       " <Container: 6deec6c04a49>]"
      ]
     },
     "execution_count": 13,
     "metadata": {},
     "output_type": "execute_result"
    }
   ],
   "source": [
    "import docker\n",
    "docker_client = docker.from_env()\n",
    "docker_client.containers.list()"
   ]
  },
  {
   "cell_type": "code",
   "execution_count": 156,
   "metadata": {},
   "outputs": [],
   "source": [
    "import docker\n",
    "from nvitop import MigDevice\n",
    "client = docker.from_env()\n",
    "mig = MigDevice.all()\n",
    "\n",
    "def get_gpu_status():\n",
    "     gpu_status = []\n",
    "     for gpu in mig:\n",
    "          #free = gpu.memory_free()\n",
    "          used = gpu.memory_used()\n",
    "          gpu, device = gpu.index\n",
    "          gpuStr = str(gpu)+\":\"+str(device)\n",
    "          gpu_status.append(dict(gpu=gpuStr, used=used))\n",
    "     return gpu_status\n",
    "## python filter type to dict\n",
    "\n",
    "def get_containers():\n",
    "    containers = []\n",
    "    gpu_status = get_gpu_status()\n",
    "    for index, container in enumerate(client.containers.list(all=True)):\n",
    "          if container.image.tags[0] in [\"tf2:0.05\", \"tf1:0.01\"]:\n",
    "               cnt = dict(index=index, id=container.short_id, name=container.name, status=container.status)\n",
    "               #gpu = list(filter(lambda x: x[\"index\"] == index, gpu_status))\n",
    "               my_dict = gpu_status[index]#gpu[0]\n",
    "               containers.append({**cnt, **my_dict})\n",
    "    return containers  "
   ]
  },
  {
   "cell_type": "code",
   "execution_count": 2,
   "metadata": {},
   "outputs": [],
   "source": [
    "from influxdb_client import  Point, InfluxDBClient\n",
    "from influxdb_client.client.write_api import SYNCHRONOUS\n",
    "from nvitop import MigDevice\n",
    "import time\n",
    "import datetime\n",
    "\n",
    "SLEEP = 5\n",
    "BUCKET = \"gpu\"\n",
    "ORGANIZATION = \"my-org\"\n",
    "TOKEN = \"BwsRD6-_mbeV8IQUJjcAKJuj2pZir0pp9Cy1bezT3z0MJ5fkqD5wmhY_l5cnCbYLlgxsy0L8GkuJ0PM_n-sk6Q==\"\n",
    "URL = \"http://localhost:8076\"\n",
    "\n",
    "client = InfluxDBClient(url=URL, token=TOKEN, org=ORGANIZATION)\n",
    "write_api = client.write_api(write_options=SYNCHRONOUS)\n",
    "query_api = client.query_api()\n",
    "try:\n",
    "    while True:\n",
    "        points = []\n",
    "        mig = MigDevice.all()\n",
    "        for gpu in mig:\n",
    "            point = Point(\"gpu_loading\").tag(\"index\", gpu.index).field(\"GPU\", gpu.memory_used())\n",
    "            points.append(point)\n",
    "        write_api.write(bucket=BUCKET, record=points)\n",
    "        print(\"Write points at {0}\".format(datetime.datetime.fromtimestamp(time.time()).strftime('%c')))\n",
    "        time.sleep(SLEEP)\n",
    "except KeyboardInterrupt:\n",
    "    pass\n",
    "\n"
   ]
  },
  {
   "cell_type": "code",
   "execution_count": null,
   "metadata": {},
   "outputs": [],
   "source": [
    "from influxdb_client import  Point, InfluxDBClient\n",
    "from influxdb_client.client.write_api import SYNCHRONOUS\n",
    "import docker\n",
    "import time\n",
    "import datetime\n",
    "\n",
    "SLEEP = 5\n",
    "BUCKET = \"docker\"\n",
    "ORGANIZATION = \"my-org\"\n",
    "TOKEN = \"BwsRD6-_mbeV8IQUJjcAKJuj2pZir0pp9Cy1bezT3z0MJ5fkqD5wmhY_l5cnCbYLlgxsy0L8GkuJ0PM_n-sk6Q==\"\n",
    "URL = \"http://localhost:8076\"\n",
    "\n",
    "\n",
    "\n",
    "client = InfluxDBClient(url=URL, token=TOKEN, org=ORGANIZATION)\n",
    "buckets_api = client.buckets_api()\n",
    "\n",
    "if (buckets_api.find_bucket_by_name(BUCKET) == None):\n",
    "    buckets_api.create_bucket(bucket_name=BUCKET, org=ORGANIZATION)\n",
    "\n",
    "docker_client = docker.from_env()\n",
    "write_api = client.write_api(write_options=SYNCHRONOUS)\n",
    "query_api = client.query_api()\n",
    "try:\n",
    "    while True:\n",
    "        points = []\n",
    "        for index, container in enumerate(docker_client.containers.list(all=True)):\n",
    "            if container.image.tags[0] in [\"tf2:0.05\", \"tf1:0.01\"]:\n",
    "                if (container.status == \"running\"):\n",
    "                    point = Point(\"docker_stat\").tag(\"id\", container.short_id).field(\"status\", container.status).field(\"cpu\", container.stats(stream=False)[\"cpu_stats\"][\"cpu_usage\"][\"total_usage\"]).field(\"memory\", container.stats(stream=False)[\"memory_stats\"][\"usage\"])\n",
    "                else:\n",
    "                    point = Point(\"docker_stat\").tag(\"id\", container.short_id).field(\"status\", container.status)\n",
    "                points.append(point)\n",
    "        write_api.write(bucket=BUCKET, record=points)\n",
    "        print(\"Write docker state at {0}\".format(datetime.datetime.fromtimestamp(time.time()).strftime('%c')))\n",
    "        time.sleep(SLEEP)\n",
    "except KeyboardInterrupt:\n",
    "    pass"
   ]
  },
  {
   "cell_type": "code",
   "execution_count": null,
   "metadata": {},
   "outputs": [],
   "source": [
    "for i in range(1000):\n",
    "    _point1 = Point(\"my_measurement\").tag(\"location\", \"Prague\").field(\"temperature\", 25.3* random.random())\n",
    "    _point2 = Point(\"my_measurement\").tag(\"location\", \"New York\").field(\"temperature\", 24.3* random.random())\n",
    "    _point3 = Point(\"my_measurement\").tag(\"location\", \"Moscow\").field(\"temperature\", 14.3* random.random())\n",
    "    _point4 = Point(\"my_measurement\").tag(\"location\", \"Tokyo\").field(\"temperature\", 28.3* random.random())\n",
    "    _point5 = Point(\"my_measurement\").tag(\"location\", \"Seoul\").field(\"temperature\", 25.3* random.random())\n",
    "    write_api.write(bucket=\"my-bucket\", record=[_point1, _point2, _point3, _point4, _point5])\n",
    "    time.sleep(10)"
   ]
  },
  {
   "cell_type": "code",
   "execution_count": 37,
   "metadata": {},
   "outputs": [
    {
     "name": "stdout",
     "output_type": "stream",
     "text": [
      "FluxTable() columns: 9, records: 1\n",
      "{'result': '_result', 'table': 0, '_start': datetime.datetime(2023, 3, 22, 5, 32, 57, 796437, tzinfo=datetime.timezone.utc), '_stop': datetime.datetime(2023, 3, 22, 5, 42, 57, 796437, tzinfo=datetime.timezone.utc), '_time': datetime.datetime(2023, 3, 22, 5, 42, 26, 229269, tzinfo=datetime.timezone.utc), '_value': 25.3, '_field': 'temperature', '_measurement': 'my_measurement', 'location': 'Prague'}\n"
     ]
    }
   ],
   "source": [
    "tables = query_api.query('from(bucket:\"my-bucket\") |> range(start: -10m)')\n",
    "for table in tables:\n",
    "    print(table)\n",
    "    for row in table.records:\n",
    "        print (row.values)"
   ]
  },
  {
   "cell_type": "code",
   "execution_count": 1,
   "metadata": {},
   "outputs": [],
   "source": [
    "def infix_to_postfix(infix):\n",
    "    # 연산자 우선순위 설정\n",
    "    precedence = {'+': 1, '-': 1, '*': 2, '/': 2, '^': 3}\n",
    "    \n",
    "    # 중위 표기식에서 토큰 추출\n",
    "    tokens = infix.split()\n",
    "    \n",
    "    # 결과를 저장할 빈 리스트와 스택 초기화\n",
    "    postfix = []\n",
    "    stack = []\n",
    "    \n",
    "    # 토큰 하나씩 처리\n",
    "    for token in tokens:\n",
    "        # 토큰이 연산자인 경우\n",
    "        if token in precedence:\n",
    "            # 스택에서 현재 연산자보다 우선순위가 높거나 같은 연산자들을 모두 꺼내서 결과에 추가\n",
    "            while stack and stack[-1] != '(' and precedence[token] <= precedence[stack[-1]]:\n",
    "                postfix.append(stack.pop())\n",
    "            # 현재 연산자를 스택에 추가\n",
    "            stack.append(token)\n",
    "        \n",
    "        # 토큰이 여는 괄호인 경우\n",
    "        elif token == '(':\n",
    "            stack.append(token)\n",
    "        \n",
    "        # 토큰이 닫는 괄호인 경우\n",
    "        elif token == ')':\n",
    "            # 스택에서 여는 괄호가 나올 때까지 모든 연산자를 꺼내서 결과에 추가\n",
    "            while stack and stack[-1] != '(':\n",
    "                postfix.append(stack.pop())\n",
    "            # 여는 괄호 제거\n",
    "            stack.pop()\n",
    "        \n",
    "        # 토큰이 피연산자인 경우\n",
    "        else:\n",
    "            postfix.append(token)\n",
    "    \n",
    "    # 스택에 남아있는 모든 연산자를 꺼내서 결과에 추가\n",
    "    while stack:\n",
    "        postfix.append(stack.pop())\n",
    "    \n",
    "    # 후위 표기식 문자열로 변환하여 반환\n",
    "    return ' '.join(postfix)"
   ]
  },
  {
   "cell_type": "code",
   "execution_count": 28,
   "metadata": {},
   "outputs": [],
   "source": [
    "def bubble_sort(arr):\n",
    "    for i in range(0, len(arr)-1):\n",
    "        for j in range(0, len(arr)-i-1):\n",
    "            if(arr[j] > arr[j+1]):\n",
    "                arr[j], arr[j+1] = arr[j+1], arr[j]\n",
    "                return arr"
   ]
  },
  {
   "cell_type": "code",
   "execution_count": 36,
   "metadata": {},
   "outputs": [],
   "source": [
    "arr = [60,20,70,10,80,30,50,40]"
   ]
  },
  {
   "cell_type": "code",
   "execution_count": 53,
   "metadata": {},
   "outputs": [
    {
     "ename": "TypeError",
     "evalue": "object of type 'NoneType' has no len()",
     "output_type": "error",
     "traceback": [
      "\u001b[0;31m---------------------------------------------------------------------------\u001b[0m",
      "\u001b[0;31mTypeError\u001b[0m                                 Traceback (most recent call last)",
      "\u001b[1;32m/home/gil/Desktop/alexander/resource_server/dockerSDK.ipynb Cell 14\u001b[0m in \u001b[0;36m<cell line: 1>\u001b[0;34m()\u001b[0m\n\u001b[0;32m----> <a href='vscode-notebook-cell://ssh-remote%2B210.102.178.108/home/gil/Desktop/alexander/resource_server/dockerSDK.ipynb#X20sdnNjb2RlLXJlbW90ZQ%3D%3D?line=0'>1</a>\u001b[0m arr \u001b[39m=\u001b[39m bubble_sort(arr)\n\u001b[1;32m      <a href='vscode-notebook-cell://ssh-remote%2B210.102.178.108/home/gil/Desktop/alexander/resource_server/dockerSDK.ipynb#X20sdnNjb2RlLXJlbW90ZQ%3D%3D?line=1'>2</a>\u001b[0m \u001b[39mprint\u001b[39m(arr)\n",
      "\u001b[1;32m/home/gil/Desktop/alexander/resource_server/dockerSDK.ipynb Cell 14\u001b[0m in \u001b[0;36mbubble_sort\u001b[0;34m(arr)\u001b[0m\n\u001b[1;32m      <a href='vscode-notebook-cell://ssh-remote%2B210.102.178.108/home/gil/Desktop/alexander/resource_server/dockerSDK.ipynb#X20sdnNjb2RlLXJlbW90ZQ%3D%3D?line=0'>1</a>\u001b[0m \u001b[39mdef\u001b[39;00m \u001b[39mbubble_sort\u001b[39m(arr):\n\u001b[0;32m----> <a href='vscode-notebook-cell://ssh-remote%2B210.102.178.108/home/gil/Desktop/alexander/resource_server/dockerSDK.ipynb#X20sdnNjb2RlLXJlbW90ZQ%3D%3D?line=1'>2</a>\u001b[0m     \u001b[39mfor\u001b[39;00m i \u001b[39min\u001b[39;00m \u001b[39mrange\u001b[39m(\u001b[39m0\u001b[39m, \u001b[39mlen\u001b[39;49m(arr)\u001b[39m-\u001b[39m\u001b[39m1\u001b[39m):\n\u001b[1;32m      <a href='vscode-notebook-cell://ssh-remote%2B210.102.178.108/home/gil/Desktop/alexander/resource_server/dockerSDK.ipynb#X20sdnNjb2RlLXJlbW90ZQ%3D%3D?line=2'>3</a>\u001b[0m         \u001b[39mfor\u001b[39;00m j \u001b[39min\u001b[39;00m \u001b[39mrange\u001b[39m(\u001b[39m0\u001b[39m, \u001b[39mlen\u001b[39m(arr)\u001b[39m-\u001b[39mi\u001b[39m-\u001b[39m\u001b[39m1\u001b[39m):\n\u001b[1;32m      <a href='vscode-notebook-cell://ssh-remote%2B210.102.178.108/home/gil/Desktop/alexander/resource_server/dockerSDK.ipynb#X20sdnNjb2RlLXJlbW90ZQ%3D%3D?line=3'>4</a>\u001b[0m             \u001b[39mif\u001b[39;00m(arr[j] \u001b[39m>\u001b[39m arr[j\u001b[39m+\u001b[39m\u001b[39m1\u001b[39m]):\n",
      "\u001b[0;31mTypeError\u001b[0m: object of type 'NoneType' has no len()"
     ]
    }
   ],
   "source": [
    " "
   ]
  }
 ],
 "metadata": {
  "kernelspec": {
   "display_name": "base",
   "language": "python",
   "name": "python3"
  },
  "language_info": {
   "codemirror_mode": {
    "name": "ipython",
    "version": 3
   },
   "file_extension": ".py",
   "mimetype": "text/x-python",
   "name": "python",
   "nbconvert_exporter": "python",
   "pygments_lexer": "ipython3",
   "version": "3.10.4"
  },
  "orig_nbformat": 4
 },
 "nbformat": 4,
 "nbformat_minor": 2
}
