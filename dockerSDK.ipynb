{
 "cells": [
  {
   "cell_type": "code",
   "execution_count": 10,
   "metadata": {},
   "outputs": [],
   "source": [
    "import docker\n",
    "client = docker.from_env()"
   ]
  },
  {
   "cell_type": "code",
   "execution_count": 11,
   "metadata": {},
   "outputs": [
    {
     "name": "stdout",
     "output_type": "stream",
     "text": [
      "container_9 running ['tf2:0.05'] df9dda980cd9\n",
      "container_8 running ['tf2:0.05'] bd0ea5149273\n",
      "container_7 running ['tf2:0.05'] 350b370d5587\n",
      "container_6 running ['tf2:0.05'] 15cc52ec1ce0\n",
      "container_5 running ['tf2:0.05'] f4e145827826\n",
      "container_4 running ['tf2:0.05'] 22997f60caf9\n",
      "container_3 running ['tf2:0.05'] 23eafc8fe174\n",
      "container_2 running ['tf2:0.05'] ffbc0b74c319\n",
      "container_1 running ['tf2:0.05'] 84b56c1edbeb\n",
      "container_0 running ['tf2:0.05'] 781ffe5e0b64\n",
      "nginx-nginx-1 running ['nginx:latest'] 319a7a894219\n"
     ]
    }
   ],
   "source": [
    "for container in client.containers.list(all=True):\n",
    "  print(container.name, container.status, container.image.tags, container.short_id)"
   ]
  },
  {
   "cell_type": "code",
   "execution_count": 180,
   "metadata": {},
   "outputs": [
    {
     "data": {
      "text/plain": [
       "0"
      ]
     },
     "execution_count": 180,
     "metadata": {},
     "output_type": "execute_result"
    }
   ],
   "source": [
    "def get_current():\n",
    "        current = 0\n",
    "        for container in client.containers.list(all=True):\n",
    "            if container.image.tags == ['tf2:0.05'] and container.status == 'running':\n",
    "                current += 1\n",
    "        return current\n",
    "get_current()"
   ]
  },
  {
   "cell_type": "code",
   "execution_count": 49,
   "metadata": {},
   "outputs": [],
   "source": [
    "client.api.remove_container(\"e1878e3058be\", force=True)"
   ]
  },
  {
   "cell_type": "code",
   "execution_count": 7,
   "metadata": {},
   "outputs": [
    {
     "name": "stdout",
     "output_type": "stream",
     "text": [
      "<generator object APIClient._stream_helper at 0x7ff80169b140>\n"
     ]
    }
   ],
   "source": [
    "container = client.containers.get('6e43d7a3976f1ec67c4073faca499f0a5fe31ca29cbafd24fbda4db586138f25')\n",
    "print(container.stats(stream=True, decode=True))"
   ]
  },
  {
   "cell_type": "code",
   "execution_count": 27,
   "metadata": {},
   "outputs": [],
   "source": [
    "def start_container(number):\n",
    "    exist = 0\n",
    "    for gpu in range(4):\n",
    "        for device in range (7):\n",
    "            if (exist < number):\n",
    "                container = client.containers.run(\n",
    "                                                    'tf2:0.05', \n",
    "                                                    detach=True, \n",
    "                                                    ports={'8080/tcp': 8080+exist}, \n",
    "                                                    volumes={'/home/gil/Desktop/colab/': {'bind': '/home/user/workdir/data', 'mode': 'ro'}, \n",
    "                                                            '/home/gil/Desktop/alexander/code-server/user_dir': {'bind': '/home/user/workdir/example', 'mode': 'ro'},\n",
    "                                                            '/etc/timezone': {'bind': '/etc/timezone', 'mode': 'ro'}, \n",
    "                                                            '/etc/localtime': {'bind': '/etc/localtime', 'mode': 'ro'},\n",
    "                                                            '/home/gil/Desktop/alexander/code-server/config.yaml': {'bind': '/home/user/.config/code-server/config.yaml', 'mode': 'ro'}}, \n",
    "                                                    shm_size='1g', \n",
    "                                                    environment=['TZ=Asia/Seoul'], \n",
    "                                                    remove=False, \n",
    "                                                    name='container_'+str(exist),\n",
    "                                                    device_requests=[{'DeviceIDs': [f'{gpu}:{device}'],\n",
    "                                                                    'Capabilities': [['gpu']],\n",
    "                                                                    }], \n",
    "                                                    command='code-server',\n",
    "                                                    entrypoint='bash')\n",
    "                exist += 1\n",
    "                print(\"Run: \" + container.short_id  + \" gpu: \" + str(gpu) + \" device: \" + str(device))"
   ]
  },
  {
   "cell_type": "code",
   "execution_count": 26,
   "metadata": {},
   "outputs": [
    {
     "name": "stdout",
     "output_type": "stream",
     "text": [
      "Removed container:  58cd6803986f3bb2aeec6f697c88e6f6591df290cfc4e42b4c88b19211b7f361\n",
      "Removed container:  46d9bb81f84b963f2eac9d57fb9bf609d0c9d0f979421b863ad90be2ebc8b6a9\n",
      "Removed container:  87ea50ddcd4ae75360003ad02874c83fd7fb9fa0d4381c599683f65b90e54a5a\n",
      "Removed container:  0a677a5c62cd7fe04808543ddedd747d5e1e7c0e938303bc2b259170fe1178b3\n",
      "Removed container:  dcfd6afbf43b8a165d910269a3e0c8946bebcb78d3f80ca5a9d26fff18dce322\n",
      "Removed container:  3bc56de2308b0003b3d3dbe25c243ead304e609fe3b691ec09a28347cff15640\n",
      "Removed container:  85f0faf8c0064e1821a50f2efc832bf4c8901183c0cc3c1861ca8ab7f4d14e77\n",
      "Removed container:  02b2f3e8731ecb29a88ef7236147b053b12b9a2998eaec93276cd52b44021bf7\n",
      "Removed container:  1917cbec6a491a80f1a9697181de1b30ca941ea83dc8d932feadc24065411e98\n",
      "Removed container:  0750a4877611917ffa935b19a4e829d4aabc4b04f9b82cbcde330cfeee6f274d\n",
      "Removed container:  1f0c89cd474cdbdf41fc334314276bfb03fde894d0e17b1fda6ef49f494a68a3\n",
      "Removed container:  d41b8edde2ea7512599e8990366783e94b23d6951ab3a85aa1f0591991b99908\n",
      "Removed container:  9842bd7d8db129506960bc3d4ca682ebe79c14aca380f150c5d76cc2db3e7cc4\n",
      "Removed container:  3a60c85198fc570d6ea4d0cb2b04bf7a7677d5fa002d49209dbc84af2684f5c5\n",
      "Removed container:  ac053f726b28b837a7241ed12be27b02e6e5b6021d3755546e256dbeb7cccb5b\n",
      "Removed container:  4b4010c8ecf0eb646fc5ae4deb750b96a6f2564ec9e4d5cecb2eba20a2d3e042\n",
      "Removed container:  7e61270ff8793e88a78d116b53fbc391b1d220bb9ded56f2520f779504ab2c71\n",
      "Removed container:  ef4273653c9cdcb98017f69980ecd3e349e281a5e807770383cd605105c836da\n",
      "Removed container:  d40e4f2b309b2155adeb207a74a02af55f8baa300ddb483bad051e1c5ea701dc\n",
      "Removed container:  4739c912fbedec9838e1f666238cc1911ddaf3ee4c2a084bb34bd6e25e49e272\n",
      "Removed container:  2f112778eaf39632f3dc30ce983c950f1bbd95cf9456832220648812f449415b\n",
      "Removed container:  f4df872a8895204f4f9be5b0046f1672c6839f7152931fe67722a4835ea73887\n",
      "Removed container:  6d358decf46b37e74b17e00e3a1d2a73662b7c1c6d1392f629d6d91b57f1a722\n",
      "Removed container:  a8a85c44001544fa12bd5fcb5fe13ec89cbf103c8b78ae306cf0b84da9fab9cb\n"
     ]
    }
   ],
   "source": [
    "for container in client.containers.list():\n",
    "  if container.image.tags == ['tf2:0.05']:\n",
    "    container.remove(force=True)\n",
    "    print(\"Removed container: \", container.short_id)"
   ]
  },
  {
   "cell_type": "code",
   "execution_count": 28,
   "metadata": {},
   "outputs": [
    {
     "name": "stdout",
     "output_type": "stream",
     "text": [
      "Run: 6deec6c04a49 gpu: 0 device: 0\n",
      "Run: 07fc9064334e gpu: 0 device: 1\n",
      "Run: d1188e3c96d2 gpu: 0 device: 2\n",
      "Run: 31d952c14669 gpu: 0 device: 3\n",
      "Run: 14c1ae70246a gpu: 0 device: 4\n",
      "Run: 63329310c6be gpu: 0 device: 5\n",
      "Run: f72d659c525d gpu: 0 device: 6\n",
      "Run: a7d54cb7d4ce gpu: 1 device: 0\n",
      "Run: a2bac594b398 gpu: 1 device: 1\n",
      "Run: 3e91c150c3c3 gpu: 1 device: 2\n",
      "Run: d9ac8dc0bbc3 gpu: 1 device: 3\n",
      "Run: 535f77e4e3b3 gpu: 1 device: 4\n",
      "Run: e9d108cb8fd1 gpu: 1 device: 5\n",
      "Run: 11dbee07405f gpu: 1 device: 6\n",
      "Run: eee0377cbe56 gpu: 2 device: 0\n",
      "Run: 84c77f0018d8 gpu: 2 device: 1\n",
      "Run: 007989c214c3 gpu: 2 device: 2\n",
      "Run: 0454ac29a5f9 gpu: 2 device: 3\n",
      "Run: 640e4aeb3cb5 gpu: 2 device: 4\n",
      "Run: bbdeeeeb7219 gpu: 2 device: 5\n",
      "Run: 9075b281ed87 gpu: 2 device: 6\n",
      "Run: f2bf57419f62 gpu: 3 device: 0\n",
      "Run: 2e183eadac83 gpu: 3 device: 1\n",
      "Run: f7814977aae6 gpu: 3 device: 2\n",
      "Run: 917c1ffc303f gpu: 3 device: 3\n",
      "Run: 7567c78ff821 gpu: 3 device: 4\n",
      "Run: ff9208197cca gpu: 3 device: 5\n",
      "Run: 6248515b7522 gpu: 3 device: 6\n"
     ]
    }
   ],
   "source": [
    "start_container(28)"
   ]
  },
  {
   "cell_type": "code",
   "execution_count": 175,
   "metadata": {},
   "outputs": [],
   "source": [
    "def load_all_containers():\n",
    "    for container in client.containers.list():\n",
    "        if container.image.tags == ['tf2:0.05']:\n",
    "            container.exec_run('conda run -n tf python /home/user/workdir/example/unet.py', detach=True)\n",
    "load_all_containers()"
   ]
  },
  {
   "cell_type": "code",
   "execution_count": 182,
   "metadata": {},
   "outputs": [],
   "source": [
    "def load_one(id):\n",
    "    for container in client.containers.list():\n",
    "        if container.short_id == id:\n",
    "            container.exec_run('conda run -n tf python /home/user/workdir/example/unet.py', detach=True)\n",
    "load_one(\"7567c78ff821\")"
   ]
  },
  {
   "cell_type": "code",
   "execution_count": 162,
   "metadata": {},
   "outputs": [],
   "source": [
    "import docker\n",
    "from nvitop import MigDevice\n",
    "client = docker.from_env()\n",
    "mig = MigDevice.all()\n",
    "\n",
    "def get_gpu_status():\n",
    "     gpu_status = []\n",
    "     for index, gpu in enumerate(mig):\n",
    "          number = 27- index\n",
    "          total = gpu.memory_total_human()\n",
    "          free = gpu.memory_free_human()\n",
    "          used = gpu.memory_used_human()\n",
    "          gpu, device = gpu.index\n",
    "          gpu_status.append(dict(index= number, gpu=gpu, device=device, total=total, free=free, used=used))\n",
    "     return gpu_status\n",
    "## python filter type to dict\n",
    "\n",
    "def get_containers():\n",
    "    containers = []\n",
    "    gpu_status = get_gpu_status()\n",
    "    for index, container in enumerate(client.containers.list(all=True)):\n",
    "          if container.image.tags[0] in [\"tf2:0.05\", \"tf1:0.01\"]:\n",
    "               cnt = dict(index=index, id=container.short_id, name=container.name, status=container.status)\n",
    "               #gpu = list(filter(lambda x: x[\"index\"] == index, gpu_status))\n",
    "               my_dict = gpu_status[index]#gpu[0]\n",
    "               containers.append({**cnt, **my_dict})\n",
    "    return containers  "
   ]
  },
  {
   "cell_type": "code",
   "execution_count": 173,
   "metadata": {},
   "outputs": [
    {
     "name": "stdout",
     "output_type": "stream",
     "text": [
      "--- 0.25064866799999663 seconds ---\n"
     ]
    }
   ],
   "source": [
    "import time\n",
    "st = time.process_time()\n",
    "get_containers()\n",
    "et = time.process_time()\n",
    "res = et - st\n",
    "print(\"--- %s seconds ---\" % res)"
   ]
  },
  {
   "cell_type": "code",
   "execution_count": 174,
   "metadata": {},
   "outputs": [
    {
     "data": {
      "text/plain": [
       "[{'index': 27,\n",
       "  'id': '6248515b7522',\n",
       "  'name': 'container_27',\n",
       "  'status': 'running',\n",
       "  'gpu': 0,\n",
       "  'device': 0,\n",
       "  'total': '9728MiB',\n",
       "  'free': '9721MiB',\n",
       "  'used': '7MiB'},\n",
       " {'index': 26,\n",
       "  'id': 'ff9208197cca',\n",
       "  'name': 'container_26',\n",
       "  'status': 'running',\n",
       "  'gpu': 0,\n",
       "  'device': 1,\n",
       "  'total': '9728MiB',\n",
       "  'free': '9721MiB',\n",
       "  'used': '7MiB'},\n",
       " {'index': 25,\n",
       "  'id': '7567c78ff821',\n",
       "  'name': 'container_25',\n",
       "  'status': 'running',\n",
       "  'gpu': 0,\n",
       "  'device': 2,\n",
       "  'total': '9728MiB',\n",
       "  'free': '9721MiB',\n",
       "  'used': '7MiB'},\n",
       " {'index': 24,\n",
       "  'id': '917c1ffc303f',\n",
       "  'name': 'container_24',\n",
       "  'status': 'running',\n",
       "  'gpu': 0,\n",
       "  'device': 3,\n",
       "  'total': '9728MiB',\n",
       "  'free': '9721MiB',\n",
       "  'used': '7MiB'},\n",
       " {'index': 23,\n",
       "  'id': 'f7814977aae6',\n",
       "  'name': 'container_23',\n",
       "  'status': 'running',\n",
       "  'gpu': 0,\n",
       "  'device': 4,\n",
       "  'total': '9728MiB',\n",
       "  'free': '9721MiB',\n",
       "  'used': '7MiB'},\n",
       " {'index': 22,\n",
       "  'id': '2e183eadac83',\n",
       "  'name': 'container_22',\n",
       "  'status': 'running',\n",
       "  'gpu': 0,\n",
       "  'device': 5,\n",
       "  'total': '9728MiB',\n",
       "  'free': '9721MiB',\n",
       "  'used': '7MiB'},\n",
       " {'index': 21,\n",
       "  'id': 'f2bf57419f62',\n",
       "  'name': 'container_21',\n",
       "  'status': 'running',\n",
       "  'gpu': 0,\n",
       "  'device': 6,\n",
       "  'total': '9728MiB',\n",
       "  'free': '9721MiB',\n",
       "  'used': '7MiB'},\n",
       " {'index': 20,\n",
       "  'id': '9075b281ed87',\n",
       "  'name': 'container_20',\n",
       "  'status': 'running',\n",
       "  'gpu': 1,\n",
       "  'device': 0,\n",
       "  'total': '9728MiB',\n",
       "  'free': '9721MiB',\n",
       "  'used': '7MiB'},\n",
       " {'index': 19,\n",
       "  'id': 'bbdeeeeb7219',\n",
       "  'name': 'container_19',\n",
       "  'status': 'running',\n",
       "  'gpu': 1,\n",
       "  'device': 1,\n",
       "  'total': '9728MiB',\n",
       "  'free': '9721MiB',\n",
       "  'used': '7MiB'},\n",
       " {'index': 18,\n",
       "  'id': '640e4aeb3cb5',\n",
       "  'name': 'container_18',\n",
       "  'status': 'running',\n",
       "  'gpu': 1,\n",
       "  'device': 2,\n",
       "  'total': '9728MiB',\n",
       "  'free': '9721MiB',\n",
       "  'used': '7MiB'},\n",
       " {'index': 17,\n",
       "  'id': '0454ac29a5f9',\n",
       "  'name': 'container_17',\n",
       "  'status': 'running',\n",
       "  'gpu': 1,\n",
       "  'device': 3,\n",
       "  'total': '9728MiB',\n",
       "  'free': '9721MiB',\n",
       "  'used': '7MiB'},\n",
       " {'index': 16,\n",
       "  'id': '007989c214c3',\n",
       "  'name': 'container_16',\n",
       "  'status': 'running',\n",
       "  'gpu': 1,\n",
       "  'device': 4,\n",
       "  'total': '9728MiB',\n",
       "  'free': '9721MiB',\n",
       "  'used': '7MiB'},\n",
       " {'index': 15,\n",
       "  'id': '84c77f0018d8',\n",
       "  'name': 'container_15',\n",
       "  'status': 'running',\n",
       "  'gpu': 1,\n",
       "  'device': 5,\n",
       "  'total': '9728MiB',\n",
       "  'free': '9721MiB',\n",
       "  'used': '7MiB'},\n",
       " {'index': 14,\n",
       "  'id': 'eee0377cbe56',\n",
       "  'name': 'container_14',\n",
       "  'status': 'running',\n",
       "  'gpu': 1,\n",
       "  'device': 6,\n",
       "  'total': '9728MiB',\n",
       "  'free': '9721MiB',\n",
       "  'used': '7MiB'},\n",
       " {'index': 13,\n",
       "  'id': '11dbee07405f',\n",
       "  'name': 'container_13',\n",
       "  'status': 'running',\n",
       "  'gpu': 2,\n",
       "  'device': 0,\n",
       "  'total': '9728MiB',\n",
       "  'free': '9721MiB',\n",
       "  'used': '7MiB'},\n",
       " {'index': 12,\n",
       "  'id': 'e9d108cb8fd1',\n",
       "  'name': 'container_12',\n",
       "  'status': 'running',\n",
       "  'gpu': 2,\n",
       "  'device': 1,\n",
       "  'total': '9728MiB',\n",
       "  'free': '9721MiB',\n",
       "  'used': '7MiB'},\n",
       " {'index': 11,\n",
       "  'id': '535f77e4e3b3',\n",
       "  'name': 'container_11',\n",
       "  'status': 'running',\n",
       "  'gpu': 2,\n",
       "  'device': 2,\n",
       "  'total': '9728MiB',\n",
       "  'free': '9721MiB',\n",
       "  'used': '7MiB'},\n",
       " {'index': 10,\n",
       "  'id': 'd9ac8dc0bbc3',\n",
       "  'name': 'container_10',\n",
       "  'status': 'running',\n",
       "  'gpu': 2,\n",
       "  'device': 3,\n",
       "  'total': '9728MiB',\n",
       "  'free': '9721MiB',\n",
       "  'used': '7MiB'},\n",
       " {'index': 9,\n",
       "  'id': '3e91c150c3c3',\n",
       "  'name': 'container_9',\n",
       "  'status': 'running',\n",
       "  'gpu': 2,\n",
       "  'device': 4,\n",
       "  'total': '9728MiB',\n",
       "  'free': '9721MiB',\n",
       "  'used': '7MiB'},\n",
       " {'index': 8,\n",
       "  'id': 'a2bac594b398',\n",
       "  'name': 'container_8',\n",
       "  'status': 'running',\n",
       "  'gpu': 2,\n",
       "  'device': 5,\n",
       "  'total': '9728MiB',\n",
       "  'free': '9721MiB',\n",
       "  'used': '7MiB'},\n",
       " {'index': 7,\n",
       "  'id': 'a7d54cb7d4ce',\n",
       "  'name': 'container_7',\n",
       "  'status': 'running',\n",
       "  'gpu': 2,\n",
       "  'device': 6,\n",
       "  'total': '9728MiB',\n",
       "  'free': '9721MiB',\n",
       "  'used': '7MiB'},\n",
       " {'index': 6,\n",
       "  'id': 'f72d659c525d',\n",
       "  'name': 'container_6',\n",
       "  'status': 'running',\n",
       "  'gpu': 3,\n",
       "  'device': 0,\n",
       "  'total': '9728MiB',\n",
       "  'free': '9721MiB',\n",
       "  'used': '7MiB'},\n",
       " {'index': 5,\n",
       "  'id': '63329310c6be',\n",
       "  'name': 'container_5',\n",
       "  'status': 'running',\n",
       "  'gpu': 3,\n",
       "  'device': 1,\n",
       "  'total': '9728MiB',\n",
       "  'free': '9721MiB',\n",
       "  'used': '7MiB'},\n",
       " {'index': 4,\n",
       "  'id': '14c1ae70246a',\n",
       "  'name': 'container_4',\n",
       "  'status': 'running',\n",
       "  'gpu': 3,\n",
       "  'device': 2,\n",
       "  'total': '9728MiB',\n",
       "  'free': '9721MiB',\n",
       "  'used': '7MiB'},\n",
       " {'index': 3,\n",
       "  'id': '31d952c14669',\n",
       "  'name': 'container_3',\n",
       "  'status': 'running',\n",
       "  'gpu': 3,\n",
       "  'device': 3,\n",
       "  'total': '9728MiB',\n",
       "  'free': '9721MiB',\n",
       "  'used': '7MiB'},\n",
       " {'index': 2,\n",
       "  'id': 'd1188e3c96d2',\n",
       "  'name': 'container_2',\n",
       "  'status': 'running',\n",
       "  'gpu': 3,\n",
       "  'device': 4,\n",
       "  'total': '9728MiB',\n",
       "  'free': '9721MiB',\n",
       "  'used': '7MiB'},\n",
       " {'index': 1,\n",
       "  'id': '07fc9064334e',\n",
       "  'name': 'container_1',\n",
       "  'status': 'running',\n",
       "  'gpu': 3,\n",
       "  'device': 5,\n",
       "  'total': '9728MiB',\n",
       "  'free': '9721MiB',\n",
       "  'used': '7MiB'},\n",
       " {'index': 0,\n",
       "  'id': '6deec6c04a49',\n",
       "  'name': 'container_0',\n",
       "  'status': 'running',\n",
       "  'gpu': 3,\n",
       "  'device': 6,\n",
       "  'total': '9728MiB',\n",
       "  'free': '9721MiB',\n",
       "  'used': '7MiB'}]"
      ]
     },
     "execution_count": 174,
     "metadata": {},
     "output_type": "execute_result"
    }
   ],
   "source": [
    "get_containers()"
   ]
  },
  {
   "cell_type": "code",
   "execution_count": 64,
   "metadata": {},
   "outputs": [
    {
     "data": {
      "text/plain": [
       "[{'index': 27,\n",
       "  'gpu': 0,\n",
       "  'device': 0,\n",
       "  'total': '9728MiB',\n",
       "  'free': '9721MiB',\n",
       "  'used': '7MiB'},\n",
       " {'index': 26,\n",
       "  'gpu': 0,\n",
       "  'device': 1,\n",
       "  'total': '9728MiB',\n",
       "  'free': '9721MiB',\n",
       "  'used': '7MiB'},\n",
       " {'index': 25,\n",
       "  'gpu': 0,\n",
       "  'device': 2,\n",
       "  'total': '9728MiB',\n",
       "  'free': '9721MiB',\n",
       "  'used': '7MiB'},\n",
       " {'index': 24,\n",
       "  'gpu': 0,\n",
       "  'device': 3,\n",
       "  'total': '9728MiB',\n",
       "  'free': '9721MiB',\n",
       "  'used': '7MiB'},\n",
       " {'index': 23,\n",
       "  'gpu': 0,\n",
       "  'device': 4,\n",
       "  'total': '9728MiB',\n",
       "  'free': '9721MiB',\n",
       "  'used': '7MiB'},\n",
       " {'index': 22,\n",
       "  'gpu': 0,\n",
       "  'device': 5,\n",
       "  'total': '9728MiB',\n",
       "  'free': '9721MiB',\n",
       "  'used': '7MiB'},\n",
       " {'index': 21,\n",
       "  'gpu': 0,\n",
       "  'device': 6,\n",
       "  'total': '9728MiB',\n",
       "  'free': '9721MiB',\n",
       "  'used': '7MiB'},\n",
       " {'index': 20,\n",
       "  'gpu': 1,\n",
       "  'device': 0,\n",
       "  'total': '9728MiB',\n",
       "  'free': '9721MiB',\n",
       "  'used': '7MiB'},\n",
       " {'index': 19,\n",
       "  'gpu': 1,\n",
       "  'device': 1,\n",
       "  'total': '9728MiB',\n",
       "  'free': '9721MiB',\n",
       "  'used': '7MiB'},\n",
       " {'index': 18,\n",
       "  'gpu': 1,\n",
       "  'device': 2,\n",
       "  'total': '9728MiB',\n",
       "  'free': '9721MiB',\n",
       "  'used': '7MiB'},\n",
       " {'index': 17,\n",
       "  'gpu': 1,\n",
       "  'device': 3,\n",
       "  'total': '9728MiB',\n",
       "  'free': '9721MiB',\n",
       "  'used': '7MiB'},\n",
       " {'index': 16,\n",
       "  'gpu': 1,\n",
       "  'device': 4,\n",
       "  'total': '9728MiB',\n",
       "  'free': '9721MiB',\n",
       "  'used': '7MiB'},\n",
       " {'index': 15,\n",
       "  'gpu': 1,\n",
       "  'device': 5,\n",
       "  'total': '9728MiB',\n",
       "  'free': '9721MiB',\n",
       "  'used': '7MiB'},\n",
       " {'index': 14,\n",
       "  'gpu': 1,\n",
       "  'device': 6,\n",
       "  'total': '9728MiB',\n",
       "  'free': '9721MiB',\n",
       "  'used': '7MiB'},\n",
       " {'index': 13,\n",
       "  'gpu': 2,\n",
       "  'device': 0,\n",
       "  'total': '9728MiB',\n",
       "  'free': '9721MiB',\n",
       "  'used': '7MiB'},\n",
       " {'index': 12,\n",
       "  'gpu': 2,\n",
       "  'device': 1,\n",
       "  'total': '9728MiB',\n",
       "  'free': '9721MiB',\n",
       "  'used': '7MiB'},\n",
       " {'index': 11,\n",
       "  'gpu': 2,\n",
       "  'device': 2,\n",
       "  'total': '9728MiB',\n",
       "  'free': '9721MiB',\n",
       "  'used': '7MiB'},\n",
       " {'index': 10,\n",
       "  'gpu': 2,\n",
       "  'device': 3,\n",
       "  'total': '9728MiB',\n",
       "  'free': '9721MiB',\n",
       "  'used': '7MiB'},\n",
       " {'index': 9,\n",
       "  'gpu': 2,\n",
       "  'device': 4,\n",
       "  'total': '9728MiB',\n",
       "  'free': '9721MiB',\n",
       "  'used': '7MiB'},\n",
       " {'index': 8,\n",
       "  'gpu': 2,\n",
       "  'device': 5,\n",
       "  'total': '9728MiB',\n",
       "  'free': '9721MiB',\n",
       "  'used': '7MiB'},\n",
       " {'index': 7,\n",
       "  'gpu': 2,\n",
       "  'device': 6,\n",
       "  'total': '9728MiB',\n",
       "  'free': '9721MiB',\n",
       "  'used': '7MiB'},\n",
       " {'index': 6,\n",
       "  'gpu': 3,\n",
       "  'device': 0,\n",
       "  'total': '9728MiB',\n",
       "  'free': '9721MiB',\n",
       "  'used': '7MiB'},\n",
       " {'index': 5,\n",
       "  'gpu': 3,\n",
       "  'device': 1,\n",
       "  'total': '9728MiB',\n",
       "  'free': '9721MiB',\n",
       "  'used': '7MiB'},\n",
       " {'index': 4,\n",
       "  'gpu': 3,\n",
       "  'device': 2,\n",
       "  'total': '9728MiB',\n",
       "  'free': '9721MiB',\n",
       "  'used': '7MiB'},\n",
       " {'index': 3,\n",
       "  'gpu': 3,\n",
       "  'device': 3,\n",
       "  'total': '9728MiB',\n",
       "  'free': '9721MiB',\n",
       "  'used': '7MiB'},\n",
       " {'index': 2,\n",
       "  'gpu': 3,\n",
       "  'device': 4,\n",
       "  'total': '9728MiB',\n",
       "  'free': '9721MiB',\n",
       "  'used': '7MiB'},\n",
       " {'index': 1,\n",
       "  'gpu': 3,\n",
       "  'device': 5,\n",
       "  'total': '9728MiB',\n",
       "  'free': '9721MiB',\n",
       "  'used': '7MiB'},\n",
       " {'index': 0,\n",
       "  'gpu': 3,\n",
       "  'device': 6,\n",
       "  'total': '9728MiB',\n",
       "  'free': '9721MiB',\n",
       "  'used': '7MiB'}]"
      ]
     },
     "execution_count": 64,
     "metadata": {},
     "output_type": "execute_result"
    }
   ],
   "source": [
    "get_gpu_status()"
   ]
  },
  {
   "cell_type": "code",
   "execution_count": 71,
   "metadata": {},
   "outputs": [
    {
     "ename": "ValueError",
     "evalue": "dictionary update sequence element #0 has length 6; 2 is required",
     "output_type": "error",
     "traceback": [
      "\u001b[0;31m---------------------------------------------------------------------------\u001b[0m",
      "\u001b[0;31mValueError\u001b[0m                                Traceback (most recent call last)",
      "\u001b[1;32m/home/gil/Desktop/alexander/resource_server/dockerSDK.ipynb Cell 12\u001b[0m in \u001b[0;36m<cell line: 1>\u001b[0;34m()\u001b[0m\n\u001b[0;32m----> <a href='vscode-notebook-cell://ssh-remote%2B210.102.178.108/home/gil/Desktop/alexander/resource_server/dockerSDK.ipynb#X34sdnNjb2RlLXJlbW90ZQ%3D%3D?line=0'>1</a>\u001b[0m get_containers()\n",
      "\u001b[1;32m/home/gil/Desktop/alexander/resource_server/dockerSDK.ipynb Cell 12\u001b[0m in \u001b[0;36mget_containers\u001b[0;34m()\u001b[0m\n\u001b[1;32m     <a href='vscode-notebook-cell://ssh-remote%2B210.102.178.108/home/gil/Desktop/alexander/resource_server/dockerSDK.ipynb#X34sdnNjb2RlLXJlbW90ZQ%3D%3D?line=19'>20</a>\u001b[0m       \u001b[39mif\u001b[39;00m container\u001b[39m.\u001b[39mimage\u001b[39m.\u001b[39mtags[\u001b[39m0\u001b[39m] \u001b[39min\u001b[39;00m [\u001b[39m\"\u001b[39m\u001b[39mtf2:0.05\u001b[39m\u001b[39m\"\u001b[39m, \u001b[39m\"\u001b[39m\u001b[39mtf1:0.01\u001b[39m\u001b[39m\"\u001b[39m]:\n\u001b[1;32m     <a href='vscode-notebook-cell://ssh-remote%2B210.102.178.108/home/gil/Desktop/alexander/resource_server/dockerSDK.ipynb#X34sdnNjb2RlLXJlbW90ZQ%3D%3D?line=20'>21</a>\u001b[0m            cnt \u001b[39m=\u001b[39m \u001b[39mdict\u001b[39m(index\u001b[39m=\u001b[39mindex, \u001b[39mid\u001b[39m\u001b[39m=\u001b[39mcontainer\u001b[39m.\u001b[39mshort_id, name\u001b[39m=\u001b[39mcontainer\u001b[39m.\u001b[39mname, status\u001b[39m=\u001b[39mcontainer\u001b[39m.\u001b[39mstatus, image\u001b[39m=\u001b[39mcontainer\u001b[39m.\u001b[39mimage\u001b[39m.\u001b[39mtags[\u001b[39m0\u001b[39m])\n\u001b[0;32m---> <a href='vscode-notebook-cell://ssh-remote%2B210.102.178.108/home/gil/Desktop/alexander/resource_server/dockerSDK.ipynb#X34sdnNjb2RlLXJlbW90ZQ%3D%3D?line=21'>22</a>\u001b[0m            gpu \u001b[39m=\u001b[39m \u001b[39mdict\u001b[39;49m(\u001b[39mfilter\u001b[39;49m(\u001b[39mlambda\u001b[39;49;00m x: x[\u001b[39m\"\u001b[39;49m\u001b[39mindex\u001b[39;49m\u001b[39m\"\u001b[39;49m] \u001b[39m==\u001b[39;49m index, get_gpu_status()))\n\u001b[1;32m     <a href='vscode-notebook-cell://ssh-remote%2B210.102.178.108/home/gil/Desktop/alexander/resource_server/dockerSDK.ipynb#X34sdnNjb2RlLXJlbW90ZQ%3D%3D?line=22'>23</a>\u001b[0m            containers\u001b[39m.\u001b[39mappend(\u001b[39mdict\u001b[39m(\u001b[39m*\u001b[39m\u001b[39m*\u001b[39mcnt, \u001b[39m*\u001b[39m\u001b[39m*\u001b[39mgpu))\n\u001b[1;32m     <a href='vscode-notebook-cell://ssh-remote%2B210.102.178.108/home/gil/Desktop/alexander/resource_server/dockerSDK.ipynb#X34sdnNjb2RlLXJlbW90ZQ%3D%3D?line=23'>24</a>\u001b[0m \u001b[39mreturn\u001b[39;00m containers\n",
      "\u001b[0;31mValueError\u001b[0m: dictionary update sequence element #0 has length 6; 2 is required"
     ]
    }
   ],
   "source": [
    "get_containers()"
   ]
  },
  {
   "cell_type": "code",
   "execution_count": 8,
   "metadata": {},
   "outputs": [
    {
     "data": {
      "text/plain": [
       "{'gpu': [{'fb_memory_usage': {'total': 81920.0,\n",
       "    'free': 81039.375,\n",
       "    'unit': 'MiB'}},\n",
       "  {'fb_memory_usage': {'total': 81920.0, 'free': 81039.375, 'unit': 'MiB'}},\n",
       "  {'fb_memory_usage': {'total': 81920.0, 'free': 81039.375, 'unit': 'MiB'}},\n",
       "  {'fb_memory_usage': {'total': 81920.0, 'free': 81039.375, 'unit': 'MiB'}}]}"
      ]
     },
     "execution_count": 8,
     "metadata": {},
     "output_type": "execute_result"
    }
   ],
   "source": [
    "from pynvml.smi import nvidia_smi\n",
    "nvsmi = nvidia_smi.getInstance()\n",
    "nvsmi.DeviceQuery('memory.free, memory.total')"
   ]
  },
  {
   "cell_type": "code",
   "execution_count": 10,
   "metadata": {},
   "outputs": [
    {
     "name": "stdout",
     "output_type": "stream",
     "text": [
      "{'gpu': [{'mig_mode': {'current_mm': 'Enabled', 'pending_mm': 'Enabled'}}, {'mig_mode': {'current_mm': 'Enabled', 'pending_mm': 'Enabled'}}, {'mig_mode': {'current_mm': 'Enabled', 'pending_mm': 'Enabled'}}, {'mig_mode': {'current_mm': 'Enabled', 'pending_mm': 'Enabled'}}]}\n"
     ]
    }
   ],
   "source": [
    "from pynvml.smi import nvidia_smi\n",
    "nvsmi = nvidia_smi.getInstance()\n",
    "print(nvsmi.DeviceQuery('mig.mode.current'), end='\\n')"
   ]
  },
  {
   "cell_type": "code",
   "execution_count": 14,
   "metadata": {},
   "outputs": [],
   "source": [
    "data = !nvidia-smi"
   ]
  },
  {
   "cell_type": "code",
   "execution_count": 15,
   "metadata": {},
   "outputs": [
    {
     "name": "stdout",
     "output_type": "stream",
     "text": [
      "['Wed Mar 15 10:49:11 2023       ', '+-----------------------------------------------------------------------------+', '| NVIDIA-SMI 525.78.01    Driver Version: 525.78.01    CUDA Version: 12.0     |', '|-------------------------------+----------------------+----------------------+', '| GPU  Name        Persistence-M| Bus-Id        Disp.A | Volatile Uncorr. ECC |', '| Fan  Temp  Perf  Pwr:Usage/Cap|         Memory-Usage | GPU-Util  Compute M. |', '|                               |                      |               MIG M. |', '|===============================+======================+======================|', '|   0  NVIDIA A100 80G...  Off  | 00000000:17:00.0 Off |                   On |', '| N/A   33C    P0    46W / 300W |     45MiB / 81920MiB |     N/A      Default |', '|                               |                      |              Enabled |', '+-------------------------------+----------------------+----------------------+', '|   1  NVIDIA A100 80G...  Off  | 00000000:31:00.0 Off |                   On |', '| N/A   32C    P0    45W / 300W |     45MiB / 81920MiB |     N/A      Default |', '|                               |                      |              Enabled |', '+-------------------------------+----------------------+----------------------+', '|   2  NVIDIA A100 80G...  Off  | 00000000:B1:00.0 Off |                   On |', '| N/A   31C    P0    42W / 300W |     45MiB / 81920MiB |     N/A      Default |', '|                               |                      |              Enabled |', '+-------------------------------+----------------------+----------------------+', '|   3  NVIDIA A100 80G...  Off  | 00000000:CA:00.0 Off |                   On |', '| N/A   32C    P0    45W / 300W |     45MiB / 81920MiB |     N/A      Default |', '|                               |                      |              Enabled |', '+-------------------------------+----------------------+----------------------+', '', '+-----------------------------------------------------------------------------+', '| MIG devices:                                                                |', '+------------------+----------------------+-----------+-----------------------+', '| GPU  GI  CI  MIG |         Memory-Usage |        Vol|         Shared        |', '|      ID  ID  Dev |           BAR1-Usage | SM     Unc| CE  ENC  DEC  OFA  JPG|', '|                  |                      |        ECC|                       |', '|==================+======================+===========+=======================|', '|  0    7   0   0  |      6MiB /  9728MiB | 14      0 |  1   0    0    0    0 |', '|                  |      0MiB / 16383MiB |           |                       |', '+------------------+----------------------+-----------+-----------------------+', '|  0    8   0   1  |      6MiB /  9728MiB | 14      0 |  1   0    0    0    0 |', '|                  |      0MiB / 16383MiB |           |                       |', '+------------------+----------------------+-----------+-----------------------+', '|  0    9   0   2  |      6MiB /  9728MiB | 14      0 |  1   0    0    0    0 |', '|                  |      0MiB / 16383MiB |           |                       |', '+------------------+----------------------+-----------+-----------------------+', '|  0   10   0   3  |      6MiB /  9728MiB | 14      0 |  1   0    0    0    0 |', '|                  |      0MiB / 16383MiB |           |                       |', '+------------------+----------------------+-----------+-----------------------+', '|  0   11   0   4  |      6MiB /  9728MiB | 14      0 |  1   0    0    0    0 |', '|                  |      0MiB / 16383MiB |           |                       |', '+------------------+----------------------+-----------+-----------------------+', '|  0   12   0   5  |      6MiB /  9728MiB | 14      0 |  1   0    0    0    0 |', '|                  |      0MiB / 16383MiB |           |                       |', '+------------------+----------------------+-----------+-----------------------+', '|  0   13   0   6  |      6MiB /  9728MiB | 14      0 |  1   0    0    0    0 |', '|                  |      0MiB / 16383MiB |           |                       |', '+------------------+----------------------+-----------+-----------------------+', '|  1    7   0   0  |      6MiB /  9728MiB | 14      0 |  1   0    0    0    0 |', '|                  |      0MiB / 16383MiB |           |                       |', '+------------------+----------------------+-----------+-----------------------+', '|  1    8   0   1  |      6MiB /  9728MiB | 14      0 |  1   0    0    0    0 |', '|                  |      0MiB / 16383MiB |           |                       |', '+------------------+----------------------+-----------+-----------------------+', '|  1    9   0   2  |      6MiB /  9728MiB | 14      0 |  1   0    0    0    0 |', '|                  |      0MiB / 16383MiB |           |                       |', '+------------------+----------------------+-----------+-----------------------+', '|  1   11   0   3  |      6MiB /  9728MiB | 14      0 |  1   0    0    0    0 |', '|                  |      0MiB / 16383MiB |           |                       |', '+------------------+----------------------+-----------+-----------------------+', '|  1   12   0   4  |      6MiB /  9728MiB | 14      0 |  1   0    0    0    0 |', '|                  |      0MiB / 16383MiB |           |                       |', '+------------------+----------------------+-----------+-----------------------+', '|  1   13   0   5  |      6MiB /  9728MiB | 14      0 |  1   0    0    0    0 |', '|                  |      0MiB / 16383MiB |           |                       |', '+------------------+----------------------+-----------+-----------------------+', '|  1   14   0   6  |      6MiB /  9728MiB | 14      0 |  1   0    0    0    0 |', '|                  |      0MiB / 16383MiB |           |                       |', '+------------------+----------------------+-----------+-----------------------+', '|  2    7   0   0  |      6MiB /  9728MiB | 14      0 |  1   0    0    0    0 |', '|                  |      0MiB / 16383MiB |           |                       |', '+------------------+----------------------+-----------+-----------------------+', '|  2    8   0   1  |      6MiB /  9728MiB | 14      0 |  1   0    0    0    0 |', '|                  |      0MiB / 16383MiB |           |                       |', '+------------------+----------------------+-----------+-----------------------+', '|  2    9   0   2  |      6MiB /  9728MiB | 14      0 |  1   0    0    0    0 |', '|                  |      0MiB / 16383MiB |           |                       |', '+------------------+----------------------+-----------+-----------------------+', '|  2   10   0   3  |      6MiB /  9728MiB | 14      0 |  1   0    0    0    0 |', '|                  |      0MiB / 16383MiB |           |                       |', '+------------------+----------------------+-----------+-----------------------+', '|  2   11   0   4  |      6MiB /  9728MiB | 14      0 |  1   0    0    0    0 |', '|                  |      0MiB / 16383MiB |           |                       |', '+------------------+----------------------+-----------+-----------------------+', '|  2   12   0   5  |      6MiB /  9728MiB | 14      0 |  1   0    0    0    0 |', '|                  |      0MiB / 16383MiB |           |                       |', '+------------------+----------------------+-----------+-----------------------+', '|  2   13   0   6  |      6MiB /  9728MiB | 14      0 |  1   0    0    0    0 |', '|                  |      0MiB / 16383MiB |           |                       |', '+------------------+----------------------+-----------+-----------------------+', '|  3    7   0   0  |      6MiB /  9728MiB | 14      0 |  1   0    0    0    0 |', '|                  |      0MiB / 16383MiB |           |                       |', '+------------------+----------------------+-----------+-----------------------+', '|  3    8   0   1  |      6MiB /  9728MiB | 14      0 |  1   0    0    0    0 |', '|                  |      0MiB / 16383MiB |           |                       |', '+------------------+----------------------+-----------+-----------------------+', '|  3    9   0   2  |      6MiB /  9728MiB | 14      0 |  1   0    0    0    0 |', '|                  |      0MiB / 16383MiB |           |                       |', '+------------------+----------------------+-----------+-----------------------+', '|  3   10   0   3  |      6MiB /  9728MiB | 14      0 |  1   0    0    0    0 |', '|                  |      0MiB / 16383MiB |           |                       |', '+------------------+----------------------+-----------+-----------------------+', '|  3   11   0   4  |      6MiB /  9728MiB | 14      0 |  1   0    0    0    0 |', '|                  |      0MiB / 16383MiB |           |                       |', '+------------------+----------------------+-----------+-----------------------+', '|  3   12   0   5  |      6MiB /  9728MiB | 14      0 |  1   0    0    0    0 |', '|                  |      0MiB / 16383MiB |           |                       |', '+------------------+----------------------+-----------+-----------------------+', '|  3   13   0   6  |      6MiB /  9728MiB | 14      0 |  1   0    0    0    0 |', '|                  |      0MiB / 16383MiB |           |                       |', '+------------------+----------------------+-----------+-----------------------+', '                                                                               ', '+-----------------------------------------------------------------------------+', '| Processes:                                                                  |', '|  GPU   GI   CI        PID   Type   Process name                  GPU Memory |', '|        ID   ID                                                   Usage      |', '|=============================================================================|', '|  No running processes found                                                 |', '+-----------------------------------------------------------------------------+']\n"
     ]
    }
   ],
   "source": [
    "print(data)"
   ]
  },
  {
   "cell_type": "code",
   "execution_count": null,
   "metadata": {},
   "outputs": [],
   "source": [
    "import pynvml\n",
    "\n",
    "pynvml.nvmlInit()\n",
    "deviceCount = pynvml.nvmlDeviceGetCount()\n",
    "for i in range(deviceCount):\n",
    "    handle = pynvml.nvmlDeviceGetHandleByIndex(i)\n",
    "    print(\"Device\", i, \":\", pynvml.nvmlDeviceGetName(handle))\n",
    "\n",
    "for i in range(deviceCount):\n",
    "    handle = pynvml.nvmlDeviceGetHandleByIndex(i)\n",
    "    attributes = pynvml.nvmlDeviceGetAttributes(handle)\n",
    "    print(\"Device\", i, \":\", pynvml.nvmlDeviceGetName(handle), \" MIG enabled: \", bool(attributes.migEnabled))\n",
    "\n"
   ]
  },
  {
   "cell_type": "code",
   "execution_count": null,
   "metadata": {},
   "outputs": [],
   "source": [
    "from nvitop import MigDevice\n",
    "mig = MigDevice.all()\n"
   ]
  },
  {
   "cell_type": "code",
   "execution_count": 9,
   "metadata": {},
   "outputs": [
    {
     "name": "stdout",
     "output_type": "stream",
     "text": [
      "9728MiB 9721MiB 7MiB\n",
      "9728MiB 9721MiB 7MiB\n",
      "9728MiB 9721MiB 7MiB\n",
      "9728MiB 9721MiB 7MiB\n",
      "9728MiB 9721MiB 7MiB\n",
      "9728MiB 9721MiB 7MiB\n",
      "9728MiB 9721MiB 7MiB\n",
      "9728MiB 9721MiB 7MiB\n",
      "9728MiB 9721MiB 7MiB\n",
      "9728MiB 9721MiB 7MiB\n",
      "9728MiB 9721MiB 7MiB\n",
      "9728MiB 9721MiB 7MiB\n",
      "9728MiB 9721MiB 7MiB\n",
      "9728MiB 9721MiB 7MiB\n",
      "9728MiB 9721MiB 7MiB\n",
      "9728MiB 9721MiB 7MiB\n",
      "9728MiB 9721MiB 7MiB\n",
      "9728MiB 9721MiB 7MiB\n",
      "9728MiB 9721MiB 7MiB\n",
      "9728MiB 9721MiB 7MiB\n",
      "9728MiB 9721MiB 7MiB\n",
      "9728MiB 9721MiB 7MiB\n",
      "9728MiB 9721MiB 7MiB\n",
      "9728MiB 9721MiB 7MiB\n",
      "9728MiB 9721MiB 7MiB\n",
      "9728MiB 9721MiB 7MiB\n",
      "9728MiB 9721MiB 7MiB\n",
      "9728MiB 9721MiB 7MiB\n"
     ]
    }
   ],
   "source": [
    "for i in mig:\n",
    "    print(i.memory_total_human(), i.memory_free_human(), i.memory_used_human())"
   ]
  },
  {
   "cell_type": "code",
   "execution_count": 14,
   "metadata": {},
   "outputs": [
    {
     "name": "stdout",
     "output_type": "stream",
     "text": [
      "Collecting pymongo[srv]\n",
      "  Downloading pymongo-4.3.3-cp310-cp310-manylinux_2_17_x86_64.manylinux2014_x86_64.whl (492 kB)\n",
      "\u001b[2K     \u001b[90m━━━━━━━━━━━━━━━━━━━━━━━━━━━━━━━━━━━━━━\u001b[0m \u001b[32m492.9/492.9 kB\u001b[0m \u001b[31m10.1 MB/s\u001b[0m eta \u001b[36m0:00:00\u001b[0ma \u001b[36m0:00:01\u001b[0m\n",
      "\u001b[?25hCollecting dnspython<3.0.0,>=1.16.0\n",
      "  Downloading dnspython-2.3.0-py3-none-any.whl (283 kB)\n",
      "\u001b[2K     \u001b[90m━━━━━━━━━━━━━━━━━━━━━━━━━━━━━━━━━━━━━━\u001b[0m \u001b[32m283.7/283.7 kB\u001b[0m \u001b[31m11.8 MB/s\u001b[0m eta \u001b[36m0:00:00\u001b[0m\n",
      "\u001b[?25hInstalling collected packages: dnspython, pymongo\n",
      "Successfully installed dnspython-2.3.0 pymongo-4.3.3\n",
      "Note: you may need to restart the kernel to use updated packages.\n"
     ]
    }
   ],
   "source": [
    "pip install pymongo[srv]"
   ]
  },
  {
   "cell_type": "code",
   "execution_count": 2,
   "metadata": {},
   "outputs": [],
   "source": [
    "from pymongo import MongoClient\n",
    "\n",
    "mongodb_client = MongoClient('localhost', 27017)\n",
    "database = mongodb_client['health']\n"
   ]
  },
  {
   "cell_type": "code",
   "execution_count": 9,
   "metadata": {},
   "outputs": [
    {
     "data": {
      "text/plain": [
       "<pymongo.cursor.Cursor at 0x7f25984b8940>"
      ]
     },
     "execution_count": 9,
     "metadata": {},
     "output_type": "execute_result"
    }
   ],
   "source": [
    "database.address.find(limit)"
   ]
  }
 ],
 "metadata": {
  "kernelspec": {
   "display_name": "base",
   "language": "python",
   "name": "python3"
  },
  "language_info": {
   "codemirror_mode": {
    "name": "ipython",
    "version": 3
   },
   "file_extension": ".py",
   "mimetype": "text/x-python",
   "name": "python",
   "nbconvert_exporter": "python",
   "pygments_lexer": "ipython3",
   "version": "3.10.4"
  },
  "orig_nbformat": 4
 },
 "nbformat": 4,
 "nbformat_minor": 2
}
