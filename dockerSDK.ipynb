{
 "cells": [
  {
   "cell_type": "code",
   "execution_count": 1,
   "metadata": {},
   "outputs": [],
   "source": [
    "from controller import DockerController\n",
    "docker_controller = DockerController()"
   ]
  },
  {
   "cell_type": "code",
   "execution_count": 9,
   "metadata": {},
   "outputs": [
    {
     "name": "stdout",
     "output_type": "stream",
     "text": [
      "container_27\n",
      "container_26\n",
      "container_25\n",
      "container_24\n",
      "container_23\n",
      "container_22\n",
      "container_21\n",
      "container_20\n",
      "container_19\n",
      "container_18\n",
      "container_17\n",
      "container_16\n",
      "container_15\n",
      "container_14\n",
      "container_13\n",
      "container_12\n",
      "container_11\n",
      "container_10\n",
      "container_9\n",
      "container_8\n",
      "container_7\n",
      "container_6\n",
      "container_5\n",
      "container_4\n",
      "container_3\n",
      "container_2\n",
      "container_1\n",
      "container_0\n"
     ]
    }
   ],
   "source": [
    "import random\n",
    "import docker \n",
    "client = docker.from_env()\n",
    "containers = client.containers.list(all=True)\n",
    "for c in containers:\n",
    "    if c.image.tags[0] == 'tf2:0.05':\n",
    "        print(c.name)\n",
    "        c.remove()"
   ]
  },
  {
   "cell_type": "code",
   "execution_count": 5,
   "metadata": {},
   "outputs": [],
   "source": [
    "docker_controller.load_one(\"6deec6c04a49\")"
   ]
  },
  {
   "cell_type": "code",
   "execution_count": 6,
   "metadata": {},
   "outputs": [
    {
     "name": "stdout",
     "output_type": "stream",
     "text": [
      "Run: bbfb5f8b8224 gpu: 0 device: 0\n"
     ]
    }
   ],
   "source": [
    "docker_controller.start_one(name=\"test\", gpu=0, device=0, port=8080, user_dir=\"test\")"
   ]
  },
  {
   "cell_type": "code",
   "execution_count": 13,
   "metadata": {},
   "outputs": [
    {
     "data": {
      "text/plain": [
       "[<Container: 655061174f1c>,\n",
       " <Container: 8ba386dea2ae>,\n",
       " <Container: 72e69a189526>,\n",
       " <Container: 899576c86f6a>,\n",
       " <Container: 7e443f11a0a3>,\n",
       " <Container: 6deec6c04a49>]"
      ]
     },
     "execution_count": 13,
     "metadata": {},
     "output_type": "execute_result"
    }
   ],
   "source": [
    "import docker\n",
    "docker_client = docker.from_env()\n",
    "docker_client.containers.list()"
   ]
  },
  {
   "cell_type": "code",
   "execution_count": 156,
   "metadata": {},
   "outputs": [],
   "source": [
    "import docker\n",
    "from nvitop import MigDevice\n",
    "client = docker.from_env()\n",
    "mig = MigDevice.all()\n",
    "\n",
    "def get_gpu_status():\n",
    "     gpu_status = []\n",
    "     for gpu in mig:\n",
    "          #free = gpu.memory_free()\n",
    "          used = gpu.memory_used()\n",
    "          gpu, device = gpu.index\n",
    "          gpuStr = str(gpu)+\":\"+str(device)\n",
    "          gpu_status.append(dict(gpu=gpuStr, used=used))\n",
    "     return gpu_status\n",
    "## python filter type to dict\n",
    "\n",
    "def get_containers():\n",
    "    containers = []\n",
    "    gpu_status = get_gpu_status()\n",
    "    for index, container in enumerate(client.containers.list(all=True)):\n",
    "          if container.image.tags[0] in [\"tf2:0.05\", \"tf1:0.01\"]:\n",
    "               cnt = dict(index=index, id=container.short_id, name=container.name, status=container.status)\n",
    "               #gpu = list(filter(lambda x: x[\"index\"] == index, gpu_status))\n",
    "               my_dict = gpu_status[index]#gpu[0]\n",
    "               containers.append({**cnt, **my_dict})\n",
    "    return containers  "
   ]
  },
  {
   "cell_type": "code",
   "execution_count": 2,
   "metadata": {},
   "outputs": [],
   "source": [
    "from influxdb_client import  Point, InfluxDBClient\n",
    "from influxdb_client.client.write_api import SYNCHRONOUS\n",
    "from nvitop import MigDevice\n",
    "import time\n",
    "import datetime\n",
    "\n",
    "SLEEP = 5\n",
    "BUCKET = \"gpu\"\n",
    "ORGANIZATION = \"my-org\"\n",
    "TOKEN = \"BwsRD6-_mbeV8IQUJjcAKJuj2pZir0pp9Cy1bezT3z0MJ5fkqD5wmhY_l5cnCbYLlgxsy0L8GkuJ0PM_n-sk6Q==\"\n",
    "URL = \"http://localhost:8076\"\n",
    "\n",
    "client = InfluxDBClient(url=URL, token=TOKEN, org=ORGANIZATION)\n",
    "write_api = client.write_api(write_options=SYNCHRONOUS)\n",
    "query_api = client.query_api()\n",
    "try:\n",
    "    while True:\n",
    "        points = []\n",
    "        mig = MigDevice.all()\n",
    "        for gpu in mig:\n",
    "            point = Point(\"gpu_loading\").tag(\"index\", gpu.index).field(\"GPU\", gpu.memory_used())\n",
    "            points.append(point)\n",
    "        write_api.write(bucket=BUCKET, record=points)\n",
    "        print(\"Write points at {0}\".format(datetime.datetime.fromtimestamp(time.time()).strftime('%c')))\n",
    "        time.sleep(SLEEP)\n",
    "except KeyboardInterrupt:\n",
    "    pass\n",
    "\n"
   ]
  },
  {
   "cell_type": "code",
   "execution_count": null,
   "metadata": {},
   "outputs": [],
   "source": [
    "from influxdb_client import  Point, InfluxDBClient\n",
    "from influxdb_client.client.write_api import SYNCHRONOUS\n",
    "import docker\n",
    "import time\n",
    "import datetime\n",
    "\n",
    "SLEEP = 5\n",
    "BUCKET = \"docker\"\n",
    "ORGANIZATION = \"my-org\"\n",
    "TOKEN = \"BwsRD6-_mbeV8IQUJjcAKJuj2pZir0pp9Cy1bezT3z0MJ5fkqD5wmhY_l5cnCbYLlgxsy0L8GkuJ0PM_n-sk6Q==\"\n",
    "URL = \"http://localhost:8076\"\n",
    "\n",
    "\n",
    "\n",
    "client = InfluxDBClient(url=URL, token=TOKEN, org=ORGANIZATION)\n",
    "buckets_api = client.buckets_api()\n",
    "\n",
    "if (buckets_api.find_bucket_by_name(BUCKET) == None):\n",
    "    buckets_api.create_bucket(bucket_name=BUCKET, org=ORGANIZATION)\n",
    "\n",
    "docker_client = docker.from_env()\n",
    "write_api = client.write_api(write_options=SYNCHRONOUS)\n",
    "query_api = client.query_api()\n",
    "try:\n",
    "    while True:\n",
    "        points = []\n",
    "        for index, container in enumerate(docker_client.containers.list(all=True)):\n",
    "            if container.image.tags[0] in [\"tf2:0.05\", \"tf1:0.01\"]:\n",
    "                if (container.status == \"running\"):\n",
    "                    point = Point(\"docker_stat\").tag(\"id\", container.short_id).field(\"status\", container.status).field(\"cpu\", container.stats(stream=False)[\"cpu_stats\"][\"cpu_usage\"][\"total_usage\"]).field(\"memory\", container.stats(stream=False)[\"memory_stats\"][\"usage\"])\n",
    "                else:\n",
    "                    point = Point(\"docker_stat\").tag(\"id\", container.short_id).field(\"status\", container.status)\n",
    "                points.append(point)\n",
    "        write_api.write(bucket=BUCKET, record=points)\n",
    "        print(\"Write docker state at {0}\".format(datetime.datetime.fromtimestamp(time.time()).strftime('%c')))\n",
    "        time.sleep(SLEEP)\n",
    "except KeyboardInterrupt:\n",
    "    pass"
   ]
  },
  {
   "cell_type": "code",
   "execution_count": null,
   "metadata": {},
   "outputs": [],
   "source": [
    "for i in range(1000):\n",
    "    _point1 = Point(\"my_measurement\").tag(\"location\", \"Prague\").field(\"temperature\", 25.3* random.random())\n",
    "    _point2 = Point(\"my_measurement\").tag(\"location\", \"New York\").field(\"temperature\", 24.3* random.random())\n",
    "    _point3 = Point(\"my_measurement\").tag(\"location\", \"Moscow\").field(\"temperature\", 14.3* random.random())\n",
    "    _point4 = Point(\"my_measurement\").tag(\"location\", \"Tokyo\").field(\"temperature\", 28.3* random.random())\n",
    "    _point5 = Point(\"my_measurement\").tag(\"location\", \"Seoul\").field(\"temperature\", 25.3* random.random())\n",
    "    write_api.write(bucket=\"my-bucket\", record=[_point1, _point2, _point3, _point4, _point5])\n",
    "    time.sleep(10)"
   ]
  },
  {
   "cell_type": "code",
   "execution_count": 37,
   "metadata": {},
   "outputs": [
    {
     "name": "stdout",
     "output_type": "stream",
     "text": [
      "FluxTable() columns: 9, records: 1\n",
      "{'result': '_result', 'table': 0, '_start': datetime.datetime(2023, 3, 22, 5, 32, 57, 796437, tzinfo=datetime.timezone.utc), '_stop': datetime.datetime(2023, 3, 22, 5, 42, 57, 796437, tzinfo=datetime.timezone.utc), '_time': datetime.datetime(2023, 3, 22, 5, 42, 26, 229269, tzinfo=datetime.timezone.utc), '_value': 25.3, '_field': 'temperature', '_measurement': 'my_measurement', 'location': 'Prague'}\n"
     ]
    }
   ],
   "source": [
    "tables = query_api.query('from(bucket:\"my-bucket\") |> range(start: -10m)')\n",
    "for table in tables:\n",
    "    print(table)\n",
    "    for row in table.records:\n",
    "        print (row.values)"
   ]
  }
 ],
 "metadata": {
  "kernelspec": {
   "display_name": "base",
   "language": "python",
   "name": "python3"
  },
  "language_info": {
   "codemirror_mode": {
    "name": "ipython",
    "version": 3
   },
   "file_extension": ".py",
   "mimetype": "text/x-python",
   "name": "python",
   "nbconvert_exporter": "python",
   "pygments_lexer": "ipython3",
   "version": "3.10.4"
  },
  "orig_nbformat": 4
 },
 "nbformat": 4,
 "nbformat_minor": 2
}
